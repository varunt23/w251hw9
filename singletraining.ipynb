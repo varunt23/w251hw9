{
 "cells": [
  {
   "cell_type": "code",
   "execution_count": 107,
   "id": "bdfae06a",
   "metadata": {
    "executionInfo": {
     "elapsed": 4198,
     "status": "ok",
     "timestamp": 1624759883403,
     "user": {
      "displayName": "Dima Rekesh",
      "photoUrl": "https://lh3.googleusercontent.com/a-/AOh14GgCxhnQN9cW764WS8AiJguM8wE5foCZLMjr-NyFuQ=s64",
      "userId": "05362657998610812765"
     },
     "user_tz": 420
    },
    "id": "f2513038"
   },
   "outputs": [],
   "source": [
    "import os\n",
    "import random\n",
    "import shutil\n",
    "import time\n",
    "import warnings\n",
    "\n",
    "import torch\n",
    "import torch.nn as nn\n",
    "import torch.backends.cudnn as cudnn\n",
    "import torch.optim\n",
    "\n",
    "import torch.utils.data\n",
    "import torchvision\n",
    "import torchvision.transforms as transforms\n",
    "import torchvision.datasets as datasets\n",
    "import torchvision.models as models\n",
    "from torch.cuda.amp import GradScaler\n",
    "from torch.cuda.amp import autocast\n",
    "import torch.distributed as dist\n",
    "from torch.utils.tensorboard import SummaryWriter"
   ]
  },
  {
   "cell_type": "code",
   "execution_count": 108,
   "id": "b0e4ebc7",
   "metadata": {},
   "outputs": [],
   "source": [
    "writer = SummaryWriter(log_dir=\"runs\")"
   ]
  },
  {
   "cell_type": "code",
   "execution_count": 109,
   "id": "917f3bcc",
   "metadata": {},
   "outputs": [
    {
     "name": "stdout",
     "output_type": "stream",
     "text": [
      "Looking in indexes: https://pypi.org/simple, https://pypi.ngc.nvidia.com\n",
      "Requirement already satisfied: wandb in /opt/conda/lib/python3.8/site-packages (0.12.21)\n",
      "Requirement already satisfied: Click!=8.0.0,>=7.0 in /opt/conda/lib/python3.8/site-packages (from wandb) (8.0.3)\n",
      "Requirement already satisfied: six>=1.13.0 in /opt/conda/lib/python3.8/site-packages (from wandb) (1.16.0)\n",
      "Requirement already satisfied: docker-pycreds>=0.4.0 in /opt/conda/lib/python3.8/site-packages (from wandb) (0.4.0)\n",
      "Requirement already satisfied: pathtools in /opt/conda/lib/python3.8/site-packages (from wandb) (0.1.2)\n",
      "Requirement already satisfied: sentry-sdk>=1.0.0 in /opt/conda/lib/python3.8/site-packages (from wandb) (1.9.0)\n",
      "Requirement already satisfied: PyYAML in /opt/conda/lib/python3.8/site-packages (from wandb) (6.0)\n",
      "Requirement already satisfied: setproctitle in /opt/conda/lib/python3.8/site-packages (from wandb) (1.3.0)\n",
      "Requirement already satisfied: setuptools in /opt/conda/lib/python3.8/site-packages (from wandb) (59.5.0)\n",
      "Requirement already satisfied: shortuuid>=0.5.0 in /opt/conda/lib/python3.8/site-packages (from wandb) (1.0.9)\n",
      "Requirement already satisfied: protobuf<4.0dev,>=3.12.0 in /opt/conda/lib/python3.8/site-packages (from wandb) (3.19.3)\n",
      "Requirement already satisfied: GitPython>=1.0.0 in /opt/conda/lib/python3.8/site-packages (from wandb) (3.1.27)\n",
      "Requirement already satisfied: psutil>=5.0.0 in /opt/conda/lib/python3.8/site-packages (from wandb) (5.9.0)\n",
      "Requirement already satisfied: requests<3,>=2.0.0 in /opt/conda/lib/python3.8/site-packages (from wandb) (2.26.0)\n",
      "Requirement already satisfied: promise<3,>=2.0 in /opt/conda/lib/python3.8/site-packages (from wandb) (2.3)\n",
      "Requirement already satisfied: gitdb<5,>=4.0.1 in /opt/conda/lib/python3.8/site-packages (from GitPython>=1.0.0->wandb) (4.0.9)\n",
      "Requirement already satisfied: smmap<6,>=3.0.1 in /opt/conda/lib/python3.8/site-packages (from gitdb<5,>=4.0.1->GitPython>=1.0.0->wandb) (5.0.0)\n",
      "Requirement already satisfied: idna<4,>=2.5 in /opt/conda/lib/python3.8/site-packages (from requests<3,>=2.0.0->wandb) (3.1)\n",
      "Requirement already satisfied: certifi>=2017.4.17 in /opt/conda/lib/python3.8/site-packages (from requests<3,>=2.0.0->wandb) (2021.10.8)\n",
      "Requirement already satisfied: urllib3<1.27,>=1.21.1 in /opt/conda/lib/python3.8/site-packages (from requests<3,>=2.0.0->wandb) (1.26.7)\n",
      "Requirement already satisfied: charset-normalizer~=2.0.0 in /opt/conda/lib/python3.8/site-packages (from requests<3,>=2.0.0->wandb) (2.0.9)\n",
      "\u001b[33mWARNING: Running pip as the 'root' user can result in broken permissions and conflicting behaviour with the system package manager. It is recommended to use a virtual environment instead: https://pip.pypa.io/warnings/venv\u001b[0m\n"
     ]
    }
   ],
   "source": [
    "!pip install wandb"
   ]
  },
  {
   "cell_type": "code",
   "execution_count": 110,
   "id": "6e987ab8",
   "metadata": {},
   "outputs": [
    {
     "name": "stderr",
     "output_type": "stream",
     "text": [
      "\u001b[34m\u001b[1mwandb\u001b[0m: \u001b[33mWARNING\u001b[0m Calling wandb.login() after wandb.init() has no effect.\n"
     ]
    },
    {
     "data": {
      "text/plain": [
       "True"
      ]
     },
     "execution_count": 110,
     "metadata": {},
     "output_type": "execute_result"
    }
   ],
   "source": [
    "import wandb\n",
    "wandb.login()"
   ]
  },
  {
   "cell_type": "code",
   "execution_count": 111,
   "id": "32a8afe3",
   "metadata": {},
   "outputs": [
    {
     "data": {
      "text/html": [
       "Finishing last run (ID:30bok6nf) before initializing another..."
      ],
      "text/plain": [
       "<IPython.core.display.HTML object>"
      ]
     },
     "metadata": {},
     "output_type": "display_data"
    },
    {
     "data": {
      "text/html": [
       "Waiting for W&B process to finish... <strong style=\"color:green\">(success).</strong>"
      ],
      "text/plain": [
       "<IPython.core.display.HTML object>"
      ]
     },
     "metadata": {},
     "output_type": "display_data"
    },
    {
     "data": {
      "text/html": [
       "<style>\n",
       "    table.wandb td:nth-child(1) { padding: 0 10px; text-align: left ; width: auto;} td:nth-child(2) {text-align: left ; width: 100%}\n",
       "    .wandb-row { display: flex; flex-direction: row; flex-wrap: wrap; justify-content: flex-start; width: 100% }\n",
       "    .wandb-col { display: flex; flex-direction: column; flex-basis: 100%; flex: 1; padding: 10px; }\n",
       "    </style>\n",
       "<div class=\"wandb-row\"><div class=\"wandb-col\"><h3>Run history:</h3><br/><table class=\"wandb\"><tr><td>Loss/train</td><td>▃▃▂▂▃▅▅▃▅▆▄▄▆▆█▆▃▇▆▅▄▆▆▃▅▄▃▄▂▁▄▂▂▅▂▂▃▂▂▁</td></tr><tr><td>acc1/train</td><td>▁▆█▆▅▅▅▅▄▄▅▅▅▅▄▅▄▄▅▄▆▅▅▅▆▅▅▅▅▆▆▆▇▆▇▆▇▇▆▇</td></tr><tr><td>acc5/train</td><td>▄█▄▄▃▂▃▄▃▂▁▄▄▃▃▃▂▂▂▂▃▃▂▂▂▂▂▂▁▂▄▄▄▄▄▄▄▄▄▅</td></tr></table><br/></div><div class=\"wandb-col\"><h3>Run summary:</h3><br/><table class=\"wandb\"><tr><td>Loss/train</td><td>6.92006</td></tr><tr><td>acc1/train</td><td>0.21307</td></tr><tr><td>acc5/train</td><td>0.80788</td></tr></table><br/></div></div>"
      ],
      "text/plain": [
       "<IPython.core.display.HTML object>"
      ]
     },
     "metadata": {},
     "output_type": "display_data"
    },
    {
     "data": {
      "text/html": [
       "Synced <strong style=\"color:#cdcd00\">feasible-star-21</strong>: <a href=\"https://wandb.ai/vtan/uncategorized/runs/30bok6nf\" target=\"_blank\">https://wandb.ai/vtan/uncategorized/runs/30bok6nf</a><br/>Synced 5 W&B file(s), 0 media file(s), 0 artifact file(s) and 0 other file(s)"
      ],
      "text/plain": [
       "<IPython.core.display.HTML object>"
      ]
     },
     "metadata": {},
     "output_type": "display_data"
    },
    {
     "data": {
      "text/html": [
       "Find logs at: <code>./wandb/run-20220802_203324-30bok6nf/logs</code>"
      ],
      "text/plain": [
       "<IPython.core.display.HTML object>"
      ]
     },
     "metadata": {},
     "output_type": "display_data"
    },
    {
     "data": {
      "text/html": [
       "Successfully finished last run (ID:30bok6nf). Initializing new run:<br/>"
      ],
      "text/plain": [
       "<IPython.core.display.HTML object>"
      ]
     },
     "metadata": {},
     "output_type": "display_data"
    },
    {
     "data": {
      "text/html": [
       "Tracking run with wandb version 0.12.21"
      ],
      "text/plain": [
       "<IPython.core.display.HTML object>"
      ]
     },
     "metadata": {},
     "output_type": "display_data"
    },
    {
     "data": {
      "text/html": [
       "Run data is saved locally in <code>/hwfolder/wandb/run-20220802_203434-3mqwouhx</code>"
      ],
      "text/plain": [
       "<IPython.core.display.HTML object>"
      ]
     },
     "metadata": {},
     "output_type": "display_data"
    },
    {
     "data": {
      "text/html": [
       "Syncing run <strong><a href=\"https://wandb.ai/vtan/hw9/runs/3mqwouhx\" target=\"_blank\">decent-bush-23</a></strong> to <a href=\"https://wandb.ai/vtan/hw9\" target=\"_blank\">Weights & Biases</a> (<a href=\"https://wandb.me/run\" target=\"_blank\">docs</a>)<br/>"
      ],
      "text/plain": [
       "<IPython.core.display.HTML object>"
      ]
     },
     "metadata": {},
     "output_type": "display_data"
    },
    {
     "data": {
      "text/html": [
       "<button onClick=\"this.nextSibling.style.display='block';this.style.display='none';\">Display W&B run</button><iframe src=\"https://wandb.ai/vtan/hw9/runs/3mqwouhx?jupyter=true\" style=\"border:none;width:100%;height:420px;display:none;\"></iframe>"
      ],
      "text/plain": [
       "<wandb.sdk.wandb_run.Run at 0x7f050a4b3310>"
      ]
     },
     "execution_count": 111,
     "metadata": {},
     "output_type": "execute_result"
    }
   ],
   "source": [
    "wandb.init(project=\"hw9\", entity=\"vtan\")"
   ]
  },
  {
   "cell_type": "code",
   "execution_count": 112,
   "id": "70ef6c59",
   "metadata": {
    "id": "8cb72e29"
   },
   "outputs": [],
   "source": [
    "# Assume that this notebook only sees one GPU.\n",
    "GPU=0"
   ]
  },
  {
   "cell_type": "code",
   "execution_count": 113,
   "id": "fedeab21",
   "metadata": {
    "executionInfo": {
     "elapsed": 354,
     "status": "ok",
     "timestamp": 1624759889299,
     "user": {
      "displayName": "Dima Rekesh",
      "photoUrl": "https://lh3.googleusercontent.com/a-/AOh14GgCxhnQN9cW764WS8AiJguM8wE5foCZLMjr-NyFuQ=s64",
      "userId": "05362657998610812765"
     },
     "user_tz": 420
    },
    "id": "02d1a0c0"
   },
   "outputs": [],
   "source": [
    "SEED=1"
   ]
  },
  {
   "cell_type": "code",
   "execution_count": 114,
   "id": "44010255",
   "metadata": {
    "executionInfo": {
     "elapsed": 17,
     "status": "ok",
     "timestamp": 1624759891917,
     "user": {
      "displayName": "Dima Rekesh",
      "photoUrl": "https://lh3.googleusercontent.com/a-/AOh14GgCxhnQN9cW764WS8AiJguM8wE5foCZLMjr-NyFuQ=s64",
      "userId": "05362657998610812765"
     },
     "user_tz": 420
    },
    "id": "b1b9bfde"
   },
   "outputs": [],
   "source": [
    "random.seed(SEED)\n",
    "torch.manual_seed(SEED)\n",
    "cudnn.deterministic = True"
   ]
  },
  {
   "cell_type": "code",
   "execution_count": 115,
   "id": "059d4417",
   "metadata": {
    "colab": {
     "base_uri": "https://localhost:8080/"
    },
    "executionInfo": {
     "elapsed": 230,
     "status": "ok",
     "timestamp": 1624759894660,
     "user": {
      "displayName": "Dima Rekesh",
      "photoUrl": "https://lh3.googleusercontent.com/a-/AOh14GgCxhnQN9cW764WS8AiJguM8wE5foCZLMjr-NyFuQ=s64",
      "userId": "05362657998610812765"
     },
     "user_tz": 420
    },
    "id": "e9eb47a7",
    "outputId": "c49775ff-91ee-488c-d99c-3739e452d6af"
   },
   "outputs": [
    {
     "data": {
      "text/plain": [
       "1"
      ]
     },
     "execution_count": 115,
     "metadata": {},
     "output_type": "execute_result"
    }
   ],
   "source": [
    "torch.cuda.device_count()"
   ]
  },
  {
   "cell_type": "code",
   "execution_count": 116,
   "id": "51c1fc0d",
   "metadata": {
    "id": "073b7b81"
   },
   "outputs": [],
   "source": [
    "START_EPOCH = 0"
   ]
  },
  {
   "cell_type": "code",
   "execution_count": 117,
   "id": "6837799a",
   "metadata": {
    "id": "5e18ae51",
    "tags": [
     "parameters"
    ]
   },
   "outputs": [],
   "source": [
    "# ARCH = 'resnet18'\n",
    "ARCH = 'resnet18'\n",
    "EPOCHS = 1\n",
    "LR = 0.1\n",
    "MOMENTUM = 0.9\n",
    "WEIGHT_DECAY = 1e-4\n",
    "PRINT_FREQ = 50\n",
    "TRAIN_BATCH=128\n",
    "VAL_BATCH=128\n",
    "WORKERS=2\n",
    "TRAINDIR=\"traindata\"\n",
    "VALDIR=\"valdata\""
   ]
  },
  {
   "cell_type": "code",
   "execution_count": 118,
   "id": "692536be",
   "metadata": {
    "id": "85299ee3"
   },
   "outputs": [
    {
     "data": {
      "text/html": [
       "Finishing last run (ID:3mqwouhx) before initializing another..."
      ],
      "text/plain": [
       "<IPython.core.display.HTML object>"
      ]
     },
     "metadata": {},
     "output_type": "display_data"
    },
    {
     "data": {
      "text/html": [
       "Waiting for W&B process to finish... <strong style=\"color:green\">(success).</strong>"
      ],
      "text/plain": [
       "<IPython.core.display.HTML object>"
      ]
     },
     "metadata": {},
     "output_type": "display_data"
    },
    {
     "data": {
      "text/html": [
       "Synced <strong style=\"color:#cdcd00\">decent-bush-23</strong>: <a href=\"https://wandb.ai/vtan/hw9/runs/3mqwouhx\" target=\"_blank\">https://wandb.ai/vtan/hw9/runs/3mqwouhx</a><br/>Synced 4 W&B file(s), 0 media file(s), 0 artifact file(s) and 0 other file(s)"
      ],
      "text/plain": [
       "<IPython.core.display.HTML object>"
      ]
     },
     "metadata": {},
     "output_type": "display_data"
    },
    {
     "data": {
      "text/html": [
       "Find logs at: <code>./wandb/run-20220802_203434-3mqwouhx/logs</code>"
      ],
      "text/plain": [
       "<IPython.core.display.HTML object>"
      ]
     },
     "metadata": {},
     "output_type": "display_data"
    },
    {
     "data": {
      "text/html": [
       "Successfully finished last run (ID:3mqwouhx). Initializing new run:<br/>"
      ],
      "text/plain": [
       "<IPython.core.display.HTML object>"
      ]
     },
     "metadata": {},
     "output_type": "display_data"
    },
    {
     "data": {
      "text/html": [
       "Tracking run with wandb version 0.12.21"
      ],
      "text/plain": [
       "<IPython.core.display.HTML object>"
      ]
     },
     "metadata": {},
     "output_type": "display_data"
    },
    {
     "data": {
      "text/html": [
       "Run data is saved locally in <code>/hwfolder/wandb/run-20220802_203439-1l3h72u4</code>"
      ],
      "text/plain": [
       "<IPython.core.display.HTML object>"
      ]
     },
     "metadata": {},
     "output_type": "display_data"
    },
    {
     "data": {
      "text/html": [
       "Syncing run <strong><a href=\"https://wandb.ai/vtan/uncategorized/runs/1l3h72u4\" target=\"_blank\">peach-totem-22</a></strong> to <a href=\"https://wandb.ai/vtan/uncategorized\" target=\"_blank\">Weights & Biases</a> (<a href=\"https://wandb.me/run\" target=\"_blank\">docs</a>)<br/>"
      ],
      "text/plain": [
       "<IPython.core.display.HTML object>"
      ]
     },
     "metadata": {},
     "output_type": "display_data"
    },
    {
     "data": {
      "text/html": [
       "<button onClick=\"this.nextSibling.style.display='block';this.style.display='none';\">Display W&B run</button><iframe src=\"https://wandb.ai/vtan/uncategorized/runs/1l3h72u4?jupyter=true\" style=\"border:none;width:100%;height:420px;display:none;\"></iframe>"
      ],
      "text/plain": [
       "<wandb.sdk.wandb_run.Run at 0x7f044537a400>"
      ]
     },
     "execution_count": 118,
     "metadata": {},
     "output_type": "execute_result"
    }
   ],
   "source": [
    "wandb.init(config={\"epochs\": EPOCHS, \"batch_size\": TRAIN_BATCH, \"momentum\": MOMENTUM, \"WEIGHT_DECAY\": WEIGHT_DECAY, \"arch\": ARCH})"
   ]
  },
  {
   "cell_type": "code",
   "execution_count": 119,
   "id": "154028ae",
   "metadata": {
    "colab": {
     "base_uri": "https://localhost:8080/"
    },
    "executionInfo": {
     "elapsed": 137,
     "status": "ok",
     "timestamp": 1622949197302,
     "user": {
      "displayName": "Jayanth Srinivasa",
      "photoUrl": "",
      "userId": "03369694624178485882"
     },
     "user_tz": 420
    },
    "id": "c6bf6a83",
    "outputId": "72d2e92f-7574-4c0a-c813-288cd69eaa36"
   },
   "outputs": [],
   "source": [
    "if not torch.cuda.is_available():\n",
    "    print('GPU not detected.. did you pass through your GPU?')"
   ]
  },
  {
   "cell_type": "code",
   "execution_count": 120,
   "id": "a0195dac",
   "metadata": {},
   "outputs": [],
   "source": [
    "# how many processes in cluster?\n",
    "WORLD_SIZE = 2\n",
    "BACKEND = 'nccl'\n",
    "# where is the master?\n",
    "URL = 'tcp://172.31.24.250:1234'"
   ]
  },
  {
   "cell_type": "code",
   "execution_count": 121,
   "id": "66f3c17c",
   "metadata": {},
   "outputs": [],
   "source": [
    "#what is my rank?\n",
    "#RANK = 0"
   ]
  },
  {
   "cell_type": "code",
   "execution_count": 122,
   "id": "9779dbcf",
   "metadata": {
    "id": "68491838"
   },
   "outputs": [],
   "source": [
    "#dist.init_process_group(backend = BACKEND, init_method= URL,\n",
    "#                                world_size= WORLD_SIZE, rank=RANK)"
   ]
  },
  {
   "cell_type": "code",
   "execution_count": 123,
   "id": "32091047",
   "metadata": {
    "id": "acd97390"
   },
   "outputs": [],
   "source": [
    "#torch.cuda.set_device('cpu')\n",
    "torch.cuda.set_device(GPU)"
   ]
  },
  {
   "cell_type": "code",
   "execution_count": 124,
   "id": "58b1fd1b",
   "metadata": {
    "id": "e19a5849"
   },
   "outputs": [],
   "source": [
    "cudnn.benchmark = True"
   ]
  },
  {
   "cell_type": "code",
   "execution_count": 125,
   "id": "c31b3a4d",
   "metadata": {
    "id": "4e65743f"
   },
   "outputs": [],
   "source": [
    "def train(train_loader, model, criterion, optimizer, epoch):\n",
    "    global global_step\n",
    "    batch_time = AverageMeter('Time', ':6.3f')\n",
    "    data_time = AverageMeter('Data', ':6.3f')\n",
    "    losses = AverageMeter('Loss', ':.4e')\n",
    "    top1 = AverageMeter('Acc@1', ':6.2f')\n",
    "    top5 = AverageMeter('Acc@5', ':6.2f')\n",
    "    progress = ProgressMeter(\n",
    "        len(train_loader),\n",
    "        [batch_time, data_time, losses, top1, top5],\n",
    "        prefix=\"Epoch: [{}]\".format(epoch))\n",
    "\n",
    "    # Grad Scaler\n",
    "    scaler = GradScaler()\n",
    "    \n",
    "    # switch to train mode\n",
    "    model.train()\n",
    "\n",
    "    end = time.time()\n",
    "    for i, (images, target) in enumerate(train_loader):\n",
    "        # measure data loading time\n",
    "        data_time.update(time.time() - end)\n",
    "\n",
    "        if GPU is not None:\n",
    "            images = images.cuda(GPU, non_blocking=True)\n",
    "        if torch.cuda.is_available():\n",
    "            target = target.cuda(GPU, non_blocking=True)\n",
    "\n",
    "        # compute output\n",
    "        with autocast():\n",
    "            output = model(images)\n",
    "            loss = criterion(output, target)\n",
    "\n",
    "        # measure accuracy and record loss\n",
    "        acc1, acc5 = accuracy(output, target, topk=(1, 5))\n",
    "        losses.update(loss.item(), images.size(0))\n",
    "        top1.update(acc1[0], images.size(0))\n",
    "        top5.update(acc5[0], images.size(0))\n",
    "\n",
    "        # compute gradient and do SGD step\n",
    "        #optimizer.zero_grad()\n",
    "        #loss.backward()\n",
    "        #optimizer.step()\n",
    "        \n",
    "        # use the scaler\n",
    "        scaler.scale(loss).backward()\n",
    "        scaler.step(optimizer)\n",
    "        scaler.update()\n",
    "\n",
    "        # measure elapsed time\n",
    "        batch_time.update(time.time() - end)\n",
    "        end = time.time()\n",
    "        wandb.log({\"Loss/train\": loss, 'acc1/train': top1.avg, 'acc5/train': top5.avg})\n",
    "        \n",
    "        writer.add_scalar(\"Loss/train\", loss, global_step = global_step)\n",
    "        writer.add_scalar(\"acc1/train\", top1.avg, global_step = global_step)\n",
    "        writer.add_scalar(\"acc5/train\", top5.avg, global_step = global_step)\n",
    "        global_step = global_step + 1\n",
    "\n",
    "        if i % PRINT_FREQ == 0:\n",
    "            progress.display(i)"
   ]
  },
  {
   "cell_type": "code",
   "execution_count": 126,
   "id": "848ca047",
   "metadata": {
    "id": "ab30a1a4"
   },
   "outputs": [],
   "source": [
    "\n",
    "\n",
    "def validate(val_loader, model, criterion):\n",
    "    global global_step\n",
    "    batch_time = AverageMeter('Time', ':6.3f')\n",
    "    losses = AverageMeter('Loss', ':.4e')\n",
    "    top1 = AverageMeter('Acc@1', ':6.2f')\n",
    "    top5 = AverageMeter('Acc@5', ':6.2f')\n",
    "    progress = ProgressMeter(\n",
    "        len(val_loader),\n",
    "        [batch_time, losses, top1, top5],\n",
    "        prefix='Test: ')\n",
    "\n",
    "    # switch to evaluate mode\n",
    "    model.eval()\n",
    "\n",
    "    with torch.no_grad():\n",
    "        end = time.time()\n",
    "        for i, (images, target) in enumerate(val_loader):\n",
    "            if GPU is not None:\n",
    "                images = images.cuda(GPU, non_blocking=True)\n",
    "            if torch.cuda.is_available():\n",
    "                target = target.cuda(GPU, non_blocking=True)\n",
    "\n",
    "            # compute output\n",
    "            output = model(images)\n",
    "            loss = criterion(output, target)\n",
    "\n",
    "            # measure accuracy and record loss\n",
    "            acc1, acc5 = accuracy(output, target, topk=(1, 5))\n",
    "            losses.update(loss.item(), images.size(0))\n",
    "            top1.update(acc1[0], images.size(0))\n",
    "            top5.update(acc5[0], images.size(0))\n",
    "\n",
    "            # measure elapsed time\n",
    "            batch_time.update(time.time() - end)\n",
    "            end = time.time()\n",
    "\n",
    "            if i % PRINT_FREQ == 0:\n",
    "                progress.display(i)\n",
    "\n",
    "        # TODO: this should also be done with the ProgressMeter\n",
    "        print(' * Acc@1 {top1.avg:.3f} Acc@5 {top5.avg:.3f}'\n",
    "              .format(top1=top1, top5=top5))\n",
    "\n",
    "    writer.add_scalar(\"Loss/val\", losses.avg, global_step = global_step)\n",
    "    writer.add_scalar(\"acc1/val\", top1.avg, global_step = global_step)\n",
    "    writer.add_scalar(\"acc5/val\", top5.avg, global_step = global_step)\n",
    "    \n",
    "    wandb.log({\"Loss/val\": losses.avg, 'acc1/val': top1.avg, 'acc5/val': top5.avg})\n",
    "    return top1.avg\n",
    "\n"
   ]
  },
  {
   "cell_type": "code",
   "execution_count": 127,
   "id": "fb917a4a",
   "metadata": {
    "id": "afa7d9fd"
   },
   "outputs": [],
   "source": [
    "def save_checkpoint(state, is_best, filename='checkpoint.pth.tar'):\n",
    "    torch.save(state, filename)\n",
    "    if is_best:\n",
    "        shutil.copyfile(filename, 'model_best.pth.tar')"
   ]
  },
  {
   "cell_type": "code",
   "execution_count": 128,
   "id": "6fb6bd4b",
   "metadata": {
    "id": "8c5f0ab4"
   },
   "outputs": [],
   "source": [
    "class AverageMeter(object):\n",
    "    \"\"\"Computes and stores the average and current value\"\"\"\n",
    "    def __init__(self, name, fmt=':f'):\n",
    "        self.name = name\n",
    "        self.fmt = fmt\n",
    "        self.reset()\n",
    "\n",
    "    def reset(self):\n",
    "        self.val = 0\n",
    "        self.avg = 0\n",
    "        self.sum = 0\n",
    "        self.count = 0\n",
    "\n",
    "    def update(self, val, n=1):\n",
    "        self.val = val\n",
    "        self.sum += val * n\n",
    "        self.count += n\n",
    "        self.avg = self.sum / self.count\n",
    "\n",
    "    def __str__(self):\n",
    "        fmtstr = '{name} {val' + self.fmt + '} ({avg' + self.fmt + '})'\n",
    "        return fmtstr.format(**self.__dict__)"
   ]
  },
  {
   "cell_type": "code",
   "execution_count": 129,
   "id": "0038f54a",
   "metadata": {
    "id": "ce30c86a"
   },
   "outputs": [],
   "source": [
    "class ProgressMeter(object):\n",
    "    def __init__(self, num_batches, meters, prefix=\"\"):\n",
    "        self.batch_fmtstr = self._get_batch_fmtstr(num_batches)\n",
    "        self.meters = meters\n",
    "        self.prefix = prefix\n",
    "\n",
    "    def display(self, batch):\n",
    "        entries = [self.prefix + self.batch_fmtstr.format(batch)]\n",
    "        entries += [str(meter) for meter in self.meters]\n",
    "        print('\\t'.join(entries))\n",
    "\n",
    "    def _get_batch_fmtstr(self, num_batches):\n",
    "        num_digits = len(str(num_batches // 1))\n",
    "        fmt = '{:' + str(num_digits) + 'd}'\n",
    "        return '[' + fmt + '/' + fmt.format(num_batches) + ']'"
   ]
  },
  {
   "cell_type": "code",
   "execution_count": 130,
   "id": "078582c9",
   "metadata": {
    "id": "7504ce7a"
   },
   "outputs": [],
   "source": [
    "def adjust_learning_rate(optimizer, epoch):\n",
    "    \"\"\"Sets the learning rate to the initial LR decayed by 10 every 30 epochs\"\"\"\n",
    "    lr = LR * (0.1 ** (epoch // 30))\n",
    "    for param_group in optimizer.param_groups:\n",
    "        param_group['lr'] = lr"
   ]
  },
  {
   "cell_type": "code",
   "execution_count": 131,
   "id": "f4f6c68f",
   "metadata": {
    "id": "0d659923"
   },
   "outputs": [],
   "source": [
    "def accuracy(output, target, topk=(1,)):\n",
    "    \"\"\"Computes the accuracy over the k top predictions for the specified values of k\"\"\"\n",
    "    with torch.no_grad():\n",
    "        maxk = max(topk)\n",
    "        batch_size = target.size(0)\n",
    "\n",
    "        _, pred = output.topk(maxk, 1, True, True)\n",
    "        pred = pred.t()\n",
    "        correct = pred.eq(target.view(1, -1).expand_as(pred))\n",
    "\n",
    "        res = []\n",
    "        for k in topk:\n",
    "            correct_k = correct[:k].reshape(-1).float().sum(0, keepdim=True)\n",
    "            res.append(correct_k.mul_(100.0 / batch_size))\n",
    "        return res"
   ]
  },
  {
   "cell_type": "code",
   "execution_count": 132,
   "id": "ca6b51ca",
   "metadata": {
    "id": "f74f06e1"
   },
   "outputs": [],
   "source": [
    "imagenet_mean_RGB = [0.47889522, 0.47227842, 0.43047404]\n",
    "imagenet_std_RGB = [0.229, 0.224, 0.225]"
   ]
  },
  {
   "cell_type": "code",
   "execution_count": 133,
   "id": "0f7ac661",
   "metadata": {
    "id": "c005e2dd"
   },
   "outputs": [],
   "source": [
    "normalize = transforms.Normalize(mean=imagenet_mean_RGB, std=imagenet_std_RGB)"
   ]
  },
  {
   "cell_type": "code",
   "execution_count": 134,
   "id": "ea4017c2",
   "metadata": {
    "id": "29d54592"
   },
   "outputs": [],
   "source": [
    "IMG_SIZE = 224"
   ]
  },
  {
   "cell_type": "code",
   "execution_count": 135,
   "id": "396996fd",
   "metadata": {
    "id": "94059b7f"
   },
   "outputs": [],
   "source": [
    "NUM_CLASSES = 1000"
   ]
  },
  {
   "cell_type": "code",
   "execution_count": 136,
   "id": "239ea7d5",
   "metadata": {
    "id": "788c0401"
   },
   "outputs": [],
   "source": [
    "model = models.__dict__[ARCH]()"
   ]
  },
  {
   "cell_type": "code",
   "execution_count": 137,
   "id": "16355b38",
   "metadata": {
    "id": "63dc579e"
   },
   "outputs": [],
   "source": [
    "inf = model.fc.in_features"
   ]
  },
  {
   "cell_type": "code",
   "execution_count": 138,
   "id": "1967452e",
   "metadata": {
    "id": "edf9cf5d"
   },
   "outputs": [],
   "source": [
    "model.fc = nn.Linear(inf, NUM_CLASSES)"
   ]
  },
  {
   "cell_type": "code",
   "execution_count": null,
   "id": "720755f3",
   "metadata": {},
   "outputs": [],
   "source": []
  },
  {
   "cell_type": "code",
   "execution_count": 139,
   "id": "c2424f9d",
   "metadata": {},
   "outputs": [
    {
     "data": {
      "text/plain": [
       "ResNet(\n",
       "  (conv1): Conv2d(3, 64, kernel_size=(7, 7), stride=(2, 2), padding=(3, 3), bias=False)\n",
       "  (bn1): BatchNorm2d(64, eps=1e-05, momentum=0.1, affine=True, track_running_stats=True)\n",
       "  (relu): ReLU(inplace=True)\n",
       "  (maxpool): MaxPool2d(kernel_size=3, stride=2, padding=1, dilation=1, ceil_mode=False)\n",
       "  (layer1): Sequential(\n",
       "    (0): BasicBlock(\n",
       "      (conv1): Conv2d(64, 64, kernel_size=(3, 3), stride=(1, 1), padding=(1, 1), bias=False)\n",
       "      (bn1): BatchNorm2d(64, eps=1e-05, momentum=0.1, affine=True, track_running_stats=True)\n",
       "      (relu): ReLU(inplace=True)\n",
       "      (conv2): Conv2d(64, 64, kernel_size=(3, 3), stride=(1, 1), padding=(1, 1), bias=False)\n",
       "      (bn2): BatchNorm2d(64, eps=1e-05, momentum=0.1, affine=True, track_running_stats=True)\n",
       "    )\n",
       "    (1): BasicBlock(\n",
       "      (conv1): Conv2d(64, 64, kernel_size=(3, 3), stride=(1, 1), padding=(1, 1), bias=False)\n",
       "      (bn1): BatchNorm2d(64, eps=1e-05, momentum=0.1, affine=True, track_running_stats=True)\n",
       "      (relu): ReLU(inplace=True)\n",
       "      (conv2): Conv2d(64, 64, kernel_size=(3, 3), stride=(1, 1), padding=(1, 1), bias=False)\n",
       "      (bn2): BatchNorm2d(64, eps=1e-05, momentum=0.1, affine=True, track_running_stats=True)\n",
       "    )\n",
       "  )\n",
       "  (layer2): Sequential(\n",
       "    (0): BasicBlock(\n",
       "      (conv1): Conv2d(64, 128, kernel_size=(3, 3), stride=(2, 2), padding=(1, 1), bias=False)\n",
       "      (bn1): BatchNorm2d(128, eps=1e-05, momentum=0.1, affine=True, track_running_stats=True)\n",
       "      (relu): ReLU(inplace=True)\n",
       "      (conv2): Conv2d(128, 128, kernel_size=(3, 3), stride=(1, 1), padding=(1, 1), bias=False)\n",
       "      (bn2): BatchNorm2d(128, eps=1e-05, momentum=0.1, affine=True, track_running_stats=True)\n",
       "      (downsample): Sequential(\n",
       "        (0): Conv2d(64, 128, kernel_size=(1, 1), stride=(2, 2), bias=False)\n",
       "        (1): BatchNorm2d(128, eps=1e-05, momentum=0.1, affine=True, track_running_stats=True)\n",
       "      )\n",
       "    )\n",
       "    (1): BasicBlock(\n",
       "      (conv1): Conv2d(128, 128, kernel_size=(3, 3), stride=(1, 1), padding=(1, 1), bias=False)\n",
       "      (bn1): BatchNorm2d(128, eps=1e-05, momentum=0.1, affine=True, track_running_stats=True)\n",
       "      (relu): ReLU(inplace=True)\n",
       "      (conv2): Conv2d(128, 128, kernel_size=(3, 3), stride=(1, 1), padding=(1, 1), bias=False)\n",
       "      (bn2): BatchNorm2d(128, eps=1e-05, momentum=0.1, affine=True, track_running_stats=True)\n",
       "    )\n",
       "  )\n",
       "  (layer3): Sequential(\n",
       "    (0): BasicBlock(\n",
       "      (conv1): Conv2d(128, 256, kernel_size=(3, 3), stride=(2, 2), padding=(1, 1), bias=False)\n",
       "      (bn1): BatchNorm2d(256, eps=1e-05, momentum=0.1, affine=True, track_running_stats=True)\n",
       "      (relu): ReLU(inplace=True)\n",
       "      (conv2): Conv2d(256, 256, kernel_size=(3, 3), stride=(1, 1), padding=(1, 1), bias=False)\n",
       "      (bn2): BatchNorm2d(256, eps=1e-05, momentum=0.1, affine=True, track_running_stats=True)\n",
       "      (downsample): Sequential(\n",
       "        (0): Conv2d(128, 256, kernel_size=(1, 1), stride=(2, 2), bias=False)\n",
       "        (1): BatchNorm2d(256, eps=1e-05, momentum=0.1, affine=True, track_running_stats=True)\n",
       "      )\n",
       "    )\n",
       "    (1): BasicBlock(\n",
       "      (conv1): Conv2d(256, 256, kernel_size=(3, 3), stride=(1, 1), padding=(1, 1), bias=False)\n",
       "      (bn1): BatchNorm2d(256, eps=1e-05, momentum=0.1, affine=True, track_running_stats=True)\n",
       "      (relu): ReLU(inplace=True)\n",
       "      (conv2): Conv2d(256, 256, kernel_size=(3, 3), stride=(1, 1), padding=(1, 1), bias=False)\n",
       "      (bn2): BatchNorm2d(256, eps=1e-05, momentum=0.1, affine=True, track_running_stats=True)\n",
       "    )\n",
       "  )\n",
       "  (layer4): Sequential(\n",
       "    (0): BasicBlock(\n",
       "      (conv1): Conv2d(256, 512, kernel_size=(3, 3), stride=(2, 2), padding=(1, 1), bias=False)\n",
       "      (bn1): BatchNorm2d(512, eps=1e-05, momentum=0.1, affine=True, track_running_stats=True)\n",
       "      (relu): ReLU(inplace=True)\n",
       "      (conv2): Conv2d(512, 512, kernel_size=(3, 3), stride=(1, 1), padding=(1, 1), bias=False)\n",
       "      (bn2): BatchNorm2d(512, eps=1e-05, momentum=0.1, affine=True, track_running_stats=True)\n",
       "      (downsample): Sequential(\n",
       "        (0): Conv2d(256, 512, kernel_size=(1, 1), stride=(2, 2), bias=False)\n",
       "        (1): BatchNorm2d(512, eps=1e-05, momentum=0.1, affine=True, track_running_stats=True)\n",
       "      )\n",
       "    )\n",
       "    (1): BasicBlock(\n",
       "      (conv1): Conv2d(512, 512, kernel_size=(3, 3), stride=(1, 1), padding=(1, 1), bias=False)\n",
       "      (bn1): BatchNorm2d(512, eps=1e-05, momentum=0.1, affine=True, track_running_stats=True)\n",
       "      (relu): ReLU(inplace=True)\n",
       "      (conv2): Conv2d(512, 512, kernel_size=(3, 3), stride=(1, 1), padding=(1, 1), bias=False)\n",
       "      (bn2): BatchNorm2d(512, eps=1e-05, momentum=0.1, affine=True, track_running_stats=True)\n",
       "    )\n",
       "  )\n",
       "  (avgpool): AdaptiveAvgPool2d(output_size=(1, 1))\n",
       "  (fc): Linear(in_features=512, out_features=1000, bias=True)\n",
       ")"
      ]
     },
     "execution_count": 139,
     "metadata": {},
     "output_type": "execute_result"
    }
   ],
   "source": [
    "model.cuda(GPU)\n",
    "#model = torch.nn.parallel.DistributedDataParallel(model, device_ids=[GPU])"
   ]
  },
  {
   "cell_type": "code",
   "execution_count": 140,
   "id": "384a806e",
   "metadata": {
    "id": "b8dc59b5"
   },
   "outputs": [],
   "source": [
    "criterion = nn.CrossEntropyLoss().cuda(GPU)"
   ]
  },
  {
   "cell_type": "code",
   "execution_count": 141,
   "id": "706d9adf",
   "metadata": {
    "id": "3999d84a"
   },
   "outputs": [],
   "source": [
    "optimizer = torch.optim.SGD(model.parameters(), LR,\n",
    "                                momentum=MOMENTUM,\n",
    "                                weight_decay=WEIGHT_DECAY)"
   ]
  },
  {
   "cell_type": "code",
   "execution_count": 142,
   "id": "6db06931",
   "metadata": {
    "id": "9fae338b"
   },
   "outputs": [],
   "source": [
    "scheduler = torch.optim.lr_scheduler.CosineAnnealingLR(optimizer, T_max=EPOCHS)"
   ]
  },
  {
   "cell_type": "code",
   "execution_count": 143,
   "id": "7b68473d",
   "metadata": {
    "id": "34dbcdb1"
   },
   "outputs": [],
   "source": [
    "train_dataset = datasets.ImageFolder(\n",
    "    TRAINDIR,\n",
    "    transforms.Compose([\n",
    "        transforms.Resize(256),\n",
    "        transforms.RandomResizedCrop(224),\n",
    "        transforms.CenterCrop(224),\n",
    "        transforms.RandomHorizontalFlip(),\n",
    "        transforms.ToTensor(),\n",
    "        normalize,\n",
    "    ])\n",
    ")"
   ]
  },
  {
   "cell_type": "code",
   "execution_count": 144,
   "id": "07e6c993",
   "metadata": {
    "id": "e5275a69"
   },
   "outputs": [],
   "source": [
    "val_dataset = datasets.ImageFolder(\n",
    "    VALDIR,\n",
    "    transforms.Compose([\n",
    "        transforms.Resize(256),\n",
    "        transforms.CenterCrop(224),\n",
    "        transforms.ToTensor(),\n",
    "        normalize,\n",
    "    ])\n",
    ")"
   ]
  },
  {
   "cell_type": "code",
   "execution_count": 145,
   "id": "809c125d",
   "metadata": {
    "id": "07a0bdf4"
   },
   "outputs": [],
   "source": [
    "train_loader = torch.utils.data.DataLoader(\n",
    "        train_dataset, batch_size=TRAIN_BATCH, shuffle=True,\n",
    "        num_workers=WORKERS, pin_memory=True, sampler=None)\n",
    "val_loader = torch.utils.data.DataLoader(\n",
    "        val_dataset, batch_size=VAL_BATCH, shuffle=False,\n",
    "        num_workers=WORKERS, pin_memory=True, sampler=None) "
   ]
  },
  {
   "cell_type": "code",
   "execution_count": 146,
   "id": "e0d6c822",
   "metadata": {
    "id": "1502c5db"
   },
   "outputs": [],
   "source": [
    "best_acc1 = 0\n",
    "global_step =0"
   ]
  },
  {
   "cell_type": "code",
   "execution_count": 147,
   "id": "c0f477c5",
   "metadata": {
    "id": "ceb95e07"
   },
   "outputs": [
    {
     "name": "stdout",
     "output_type": "stream",
     "text": [
      "Epoch: [0][    0/10010]\tTime  3.265 ( 3.265)\tData  1.170 ( 1.170)\tLoss 7.0180e+00 (7.0180e+00)\tAcc@1   0.00 (  0.00)\tAcc@5   0.78 (  0.78)\n",
      "Epoch: [0][   50/10010]\tTime  0.188 ( 0.454)\tData  0.031 ( 0.259)\tLoss 6.9410e+00 (7.1275e+00)\tAcc@1   0.00 (  0.14)\tAcc@5   0.00 (  0.72)\n",
      "Epoch: [0][  100/10010]\tTime  0.314 ( 0.450)\tData  0.157 ( 0.274)\tLoss 6.8057e+00 (7.0137e+00)\tAcc@1   0.78 (  0.23)\tAcc@5   1.56 (  0.88)\n",
      "Epoch: [0][  150/10010]\tTime  0.160 ( 0.471)\tData  0.002 ( 0.301)\tLoss 6.7997e+00 (6.9547e+00)\tAcc@1   0.00 (  0.25)\tAcc@5   0.78 (  1.15)\n",
      "Epoch: [0][  200/10010]\tTime  0.160 ( 0.485)\tData  0.002 ( 0.318)\tLoss 6.7942e+00 (6.9123e+00)\tAcc@1   0.00 (  0.30)\tAcc@5   0.00 (  1.35)\n",
      "Epoch: [0][  250/10010]\tTime  0.158 ( 0.488)\tData  0.002 ( 0.324)\tLoss 6.6718e+00 (6.8787e+00)\tAcc@1   0.78 (  0.36)\tAcc@5   1.56 (  1.49)\n",
      "Epoch: [0][  300/10010]\tTime  0.160 ( 0.492)\tData  0.002 ( 0.329)\tLoss 6.6552e+00 (6.8507e+00)\tAcc@1   0.00 (  0.36)\tAcc@5   1.56 (  1.55)\n",
      "Epoch: [0][  350/10010]\tTime  0.159 ( 0.496)\tData  0.002 ( 0.333)\tLoss 6.6108e+00 (6.8272e+00)\tAcc@1   0.78 (  0.40)\tAcc@5   3.91 (  1.63)\n",
      "Epoch: [0][  400/10010]\tTime  0.160 ( 0.497)\tData  0.002 ( 0.335)\tLoss 6.6462e+00 (6.8025e+00)\tAcc@1   0.00 (  0.42)\tAcc@5   1.56 (  1.70)\n",
      "Epoch: [0][  450/10010]\tTime  0.160 ( 0.497)\tData  0.002 ( 0.335)\tLoss 6.4582e+00 (6.7780e+00)\tAcc@1   1.56 (  0.47)\tAcc@5   5.47 (  1.84)\n",
      "Epoch: [0][  500/10010]\tTime  0.164 ( 0.498)\tData  0.002 ( 0.337)\tLoss 6.6125e+00 (6.7567e+00)\tAcc@1   0.78 (  0.50)\tAcc@5   3.91 (  1.94)\n",
      "Epoch: [0][  550/10010]\tTime  0.160 ( 0.498)\tData  0.002 ( 0.338)\tLoss 6.6348e+00 (6.7346e+00)\tAcc@1   0.00 (  0.53)\tAcc@5   0.78 (  2.06)\n",
      "Epoch: [0][  600/10010]\tTime  0.345 ( 0.499)\tData  0.187 ( 0.338)\tLoss 6.3806e+00 (6.7127e+00)\tAcc@1   1.56 (  0.55)\tAcc@5   3.91 (  2.19)\n",
      "Epoch: [0][  650/10010]\tTime  0.378 ( 0.498)\tData  0.219 ( 0.338)\tLoss 6.4855e+00 (6.6910e+00)\tAcc@1   0.00 (  0.58)\tAcc@5   1.56 (  2.36)\n",
      "Epoch: [0][  700/10010]\tTime  0.382 ( 0.499)\tData  0.223 ( 0.338)\tLoss 6.1452e+00 (6.6687e+00)\tAcc@1   3.12 (  0.62)\tAcc@5   6.25 (  2.49)\n",
      "Epoch: [0][  750/10010]\tTime  0.753 ( 0.499)\tData  0.593 ( 0.339)\tLoss 6.4083e+00 (6.6484e+00)\tAcc@1   1.56 (  0.65)\tAcc@5   3.91 (  2.64)\n",
      "Epoch: [0][  800/10010]\tTime  0.701 ( 0.500)\tData  0.541 ( 0.339)\tLoss 6.2972e+00 (6.6282e+00)\tAcc@1   0.78 (  0.67)\tAcc@5   5.47 (  2.77)\n",
      "Epoch: [0][  850/10010]\tTime  0.492 ( 0.501)\tData  0.330 ( 0.340)\tLoss 6.2626e+00 (6.6063e+00)\tAcc@1   0.78 (  0.71)\tAcc@5   3.91 (  2.92)\n",
      "Epoch: [0][  900/10010]\tTime  0.701 ( 0.501)\tData  0.539 ( 0.340)\tLoss 6.2894e+00 (6.5856e+00)\tAcc@1   3.12 (  0.77)\tAcc@5   4.69 (  3.09)\n",
      "Epoch: [0][  950/10010]\tTime  0.484 ( 0.501)\tData  0.322 ( 0.341)\tLoss 6.0690e+00 (6.5636e+00)\tAcc@1   0.78 (  0.81)\tAcc@5   5.47 (  3.23)\n",
      "Epoch: [0][ 1000/10010]\tTime  0.196 ( 0.501)\tData  0.034 ( 0.340)\tLoss 6.0844e+00 (6.5429e+00)\tAcc@1   3.12 (  0.85)\tAcc@5   6.25 (  3.37)\n",
      "Epoch: [0][ 1050/10010]\tTime  0.190 ( 0.501)\tData  0.027 ( 0.340)\tLoss 6.0777e+00 (6.5236e+00)\tAcc@1   0.78 (  0.89)\tAcc@5   3.91 (  3.51)\n",
      "Epoch: [0][ 1100/10010]\tTime  1.003 ( 0.502)\tData  0.840 ( 0.341)\tLoss 6.0695e+00 (6.5060e+00)\tAcc@1   3.12 (  0.94)\tAcc@5  10.16 (  3.66)\n",
      "Epoch: [0][ 1150/10010]\tTime  0.887 ( 0.501)\tData  0.725 ( 0.341)\tLoss 5.8533e+00 (6.4865e+00)\tAcc@1   3.91 (  0.99)\tAcc@5   9.38 (  3.83)\n",
      "Epoch: [0][ 1200/10010]\tTime  0.784 ( 0.501)\tData  0.621 ( 0.340)\tLoss 6.1752e+00 (6.4665e+00)\tAcc@1   1.56 (  1.03)\tAcc@5   7.03 (  4.00)\n",
      "Epoch: [0][ 1250/10010]\tTime  0.934 ( 0.502)\tData  0.769 ( 0.341)\tLoss 5.9989e+00 (6.4487e+00)\tAcc@1   1.56 (  1.07)\tAcc@5   7.03 (  4.15)\n",
      "Epoch: [0][ 1300/10010]\tTime  0.800 ( 0.502)\tData  0.637 ( 0.341)\tLoss 5.9365e+00 (6.4305e+00)\tAcc@1   3.91 (  1.13)\tAcc@5  10.94 (  4.32)\n",
      "Epoch: [0][ 1350/10010]\tTime  0.898 ( 0.502)\tData  0.736 ( 0.341)\tLoss 5.6871e+00 (6.4126e+00)\tAcc@1   2.34 (  1.17)\tAcc@5  14.84 (  4.50)\n",
      "Epoch: [0][ 1400/10010]\tTime  0.815 ( 0.502)\tData  0.653 ( 0.340)\tLoss 5.8536e+00 (6.3940e+00)\tAcc@1   3.12 (  1.23)\tAcc@5   7.81 (  4.67)\n",
      "Epoch: [0][ 1450/10010]\tTime  1.035 ( 0.502)\tData  0.873 ( 0.340)\tLoss 5.7084e+00 (6.3760e+00)\tAcc@1   3.91 (  1.29)\tAcc@5  12.50 (  4.85)\n",
      "Epoch: [0][ 1500/10010]\tTime  0.881 ( 0.503)\tData  0.718 ( 0.341)\tLoss 5.6249e+00 (6.3580e+00)\tAcc@1   5.47 (  1.33)\tAcc@5  14.06 (  5.01)\n",
      "Epoch: [0][ 1550/10010]\tTime  1.895 ( 0.503)\tData  1.734 ( 0.342)\tLoss 5.8636e+00 (6.3419e+00)\tAcc@1   4.69 (  1.38)\tAcc@5   9.38 (  5.16)\n",
      "Epoch: [0][ 1600/10010]\tTime  0.804 ( 0.503)\tData  0.642 ( 0.342)\tLoss 5.7142e+00 (6.3251e+00)\tAcc@1   5.47 (  1.43)\tAcc@5   7.03 (  5.31)\n",
      "Epoch: [0][ 1650/10010]\tTime  0.791 ( 0.503)\tData  0.629 ( 0.341)\tLoss 5.6283e+00 (6.3080e+00)\tAcc@1   2.34 (  1.48)\tAcc@5  11.72 (  5.48)\n",
      "Epoch: [0][ 1700/10010]\tTime  0.800 ( 0.503)\tData  0.639 ( 0.341)\tLoss 5.9419e+00 (6.2915e+00)\tAcc@1   3.91 (  1.54)\tAcc@5  10.94 (  5.66)\n",
      "Epoch: [0][ 1750/10010]\tTime  0.743 ( 0.503)\tData  0.581 ( 0.341)\tLoss 5.8323e+00 (6.2754e+00)\tAcc@1   2.34 (  1.61)\tAcc@5   6.25 (  5.84)\n",
      "Epoch: [0][ 1800/10010]\tTime  0.734 ( 0.503)\tData  0.571 ( 0.341)\tLoss 5.7069e+00 (6.2600e+00)\tAcc@1   1.56 (  1.66)\tAcc@5  14.06 (  6.00)\n",
      "Epoch: [0][ 1850/10010]\tTime  0.165 ( 0.503)\tData  0.002 ( 0.341)\tLoss 5.9485e+00 (6.2454e+00)\tAcc@1   0.78 (  1.72)\tAcc@5   8.59 (  6.16)\n",
      "Epoch: [0][ 1900/10010]\tTime  0.161 ( 0.502)\tData  0.002 ( 0.341)\tLoss 5.6097e+00 (6.2294e+00)\tAcc@1   5.47 (  1.79)\tAcc@5  12.50 (  6.35)\n",
      "Epoch: [0][ 1950/10010]\tTime  0.160 ( 0.502)\tData  0.002 ( 0.340)\tLoss 5.4960e+00 (6.2144e+00)\tAcc@1   2.34 (  1.85)\tAcc@5  13.28 (  6.53)\n",
      "Epoch: [0][ 2000/10010]\tTime  0.160 ( 0.502)\tData  0.002 ( 0.341)\tLoss 5.9036e+00 (6.1991e+00)\tAcc@1   2.34 (  1.91)\tAcc@5   5.47 (  6.70)\n",
      "Epoch: [0][ 2050/10010]\tTime  0.160 ( 0.503)\tData  0.002 ( 0.341)\tLoss 5.5377e+00 (6.1839e+00)\tAcc@1   6.25 (  1.98)\tAcc@5  15.62 (  6.87)\n",
      "Epoch: [0][ 2100/10010]\tTime  0.160 ( 0.502)\tData  0.002 ( 0.341)\tLoss 5.7476e+00 (6.1690e+00)\tAcc@1   3.12 (  2.04)\tAcc@5   8.59 (  7.06)\n",
      "Epoch: [0][ 2150/10010]\tTime  0.160 ( 0.502)\tData  0.002 ( 0.341)\tLoss 5.5115e+00 (6.1544e+00)\tAcc@1   3.12 (  2.11)\tAcc@5  13.28 (  7.23)\n",
      "Epoch: [0][ 2200/10010]\tTime  0.161 ( 0.502)\tData  0.002 ( 0.341)\tLoss 5.4436e+00 (6.1402e+00)\tAcc@1   7.03 (  2.18)\tAcc@5  13.28 (  7.41)\n",
      "Epoch: [0][ 2250/10010]\tTime  0.160 ( 0.502)\tData  0.002 ( 0.341)\tLoss 5.6198e+00 (6.1250e+00)\tAcc@1   4.69 (  2.25)\tAcc@5  14.06 (  7.59)\n",
      "Epoch: [0][ 2300/10010]\tTime  0.169 ( 0.503)\tData  0.002 ( 0.341)\tLoss 5.4658e+00 (6.1106e+00)\tAcc@1   5.47 (  2.30)\tAcc@5  17.97 (  7.77)\n",
      "Epoch: [0][ 2350/10010]\tTime  0.159 ( 0.502)\tData  0.002 ( 0.341)\tLoss 5.2505e+00 (6.0971e+00)\tAcc@1   4.69 (  2.36)\tAcc@5  17.19 (  7.94)\n",
      "Epoch: [0][ 2400/10010]\tTime  0.160 ( 0.502)\tData  0.002 ( 0.341)\tLoss 5.6804e+00 (6.0834e+00)\tAcc@1   3.91 (  2.42)\tAcc@5  13.28 (  8.10)\n",
      "Epoch: [0][ 2450/10010]\tTime  0.160 ( 0.502)\tData  0.002 ( 0.341)\tLoss 5.3908e+00 (6.0707e+00)\tAcc@1   3.12 (  2.48)\tAcc@5  14.84 (  8.25)\n",
      "Epoch: [0][ 2500/10010]\tTime  0.190 ( 0.502)\tData  0.033 ( 0.341)\tLoss 5.5466e+00 (6.0579e+00)\tAcc@1   3.12 (  2.54)\tAcc@5  14.06 (  8.42)\n",
      "Epoch: [0][ 2550/10010]\tTime  0.607 ( 0.502)\tData  0.450 ( 0.342)\tLoss 5.5258e+00 (6.0448e+00)\tAcc@1   6.25 (  2.61)\tAcc@5  15.62 (  8.59)\n",
      "Epoch: [0][ 2600/10010]\tTime  0.818 ( 0.502)\tData  0.661 ( 0.342)\tLoss 5.4240e+00 (6.0323e+00)\tAcc@1   4.69 (  2.67)\tAcc@5  15.62 (  8.75)\n",
      "Epoch: [0][ 2650/10010]\tTime  0.738 ( 0.502)\tData  0.581 ( 0.342)\tLoss 5.3599e+00 (6.0193e+00)\tAcc@1   7.03 (  2.73)\tAcc@5  21.09 (  8.92)\n",
      "Epoch: [0][ 2700/10010]\tTime  0.940 ( 0.502)\tData  0.783 ( 0.342)\tLoss 5.3459e+00 (6.0065e+00)\tAcc@1   5.47 (  2.79)\tAcc@5  17.19 (  9.10)\n",
      "Epoch: [0][ 2750/10010]\tTime  0.844 ( 0.502)\tData  0.686 ( 0.342)\tLoss 5.6868e+00 (5.9947e+00)\tAcc@1   2.34 (  2.86)\tAcc@5  10.94 (  9.25)\n",
      "Epoch: [0][ 2800/10010]\tTime  0.819 ( 0.502)\tData  0.661 ( 0.342)\tLoss 5.1436e+00 (5.9824e+00)\tAcc@1   8.59 (  2.92)\tAcc@5  21.88 (  9.43)\n",
      "Epoch: [0][ 2850/10010]\tTime  0.809 ( 0.502)\tData  0.650 ( 0.341)\tLoss 5.2740e+00 (5.9701e+00)\tAcc@1  10.16 (  3.00)\tAcc@5  19.53 (  9.61)\n",
      "Epoch: [0][ 2900/10010]\tTime  0.804 ( 0.502)\tData  0.643 ( 0.341)\tLoss 5.2061e+00 (5.9576e+00)\tAcc@1   6.25 (  3.06)\tAcc@5  16.41 (  9.77)\n",
      "Epoch: [0][ 2950/10010]\tTime  0.960 ( 0.502)\tData  0.800 ( 0.341)\tLoss 5.1434e+00 (5.9456e+00)\tAcc@1   6.25 (  3.13)\tAcc@5  18.75 (  9.95)\n",
      "Epoch: [0][ 3000/10010]\tTime  0.809 ( 0.502)\tData  0.649 ( 0.342)\tLoss 5.2135e+00 (5.9335e+00)\tAcc@1  10.94 (  3.19)\tAcc@5  24.22 ( 10.10)\n",
      "Epoch: [0][ 3050/10010]\tTime  0.846 ( 0.502)\tData  0.686 ( 0.342)\tLoss 5.2518e+00 (5.9215e+00)\tAcc@1   7.03 (  3.26)\tAcc@5  19.53 ( 10.27)\n",
      "Epoch: [0][ 3100/10010]\tTime  0.792 ( 0.502)\tData  0.634 ( 0.342)\tLoss 5.2968e+00 (5.9096e+00)\tAcc@1   5.47 (  3.34)\tAcc@5  18.75 ( 10.43)\n",
      "Epoch: [0][ 3150/10010]\tTime  0.834 ( 0.502)\tData  0.676 ( 0.342)\tLoss 5.3278e+00 (5.8984e+00)\tAcc@1   7.81 (  3.41)\tAcc@5  18.75 ( 10.58)\n",
      "Epoch: [0][ 3200/10010]\tTime  0.771 ( 0.502)\tData  0.614 ( 0.342)\tLoss 5.0853e+00 (5.8871e+00)\tAcc@1   7.81 (  3.48)\tAcc@5  24.22 ( 10.73)\n",
      "Epoch: [0][ 3250/10010]\tTime  0.843 ( 0.502)\tData  0.686 ( 0.342)\tLoss 5.1735e+00 (5.8757e+00)\tAcc@1   8.59 (  3.54)\tAcc@5  21.88 ( 10.90)\n",
      "Epoch: [0][ 3300/10010]\tTime  0.743 ( 0.502)\tData  0.587 ( 0.341)\tLoss 4.9203e+00 (5.8644e+00)\tAcc@1  10.94 (  3.60)\tAcc@5  25.00 ( 11.06)\n",
      "Epoch: [0][ 3350/10010]\tTime  0.980 ( 0.502)\tData  0.822 ( 0.341)\tLoss 5.4171e+00 (5.8533e+00)\tAcc@1   3.91 (  3.66)\tAcc@5  15.62 ( 11.22)\n",
      "Epoch: [0][ 3400/10010]\tTime  0.885 ( 0.502)\tData  0.727 ( 0.342)\tLoss 5.0450e+00 (5.8419e+00)\tAcc@1   9.38 (  3.72)\tAcc@5  25.78 ( 11.39)\n",
      "Epoch: [0][ 3450/10010]\tTime  0.818 ( 0.502)\tData  0.660 ( 0.342)\tLoss 5.0084e+00 (5.8308e+00)\tAcc@1   7.81 (  3.79)\tAcc@5  22.66 ( 11.55)\n",
      "Epoch: [0][ 3500/10010]\tTime  0.858 ( 0.502)\tData  0.700 ( 0.341)\tLoss 5.2336e+00 (5.8196e+00)\tAcc@1   7.81 (  3.86)\tAcc@5  17.97 ( 11.71)\n",
      "Epoch: [0][ 3550/10010]\tTime  0.775 ( 0.502)\tData  0.616 ( 0.341)\tLoss 5.0164e+00 (5.8083e+00)\tAcc@1  10.16 (  3.93)\tAcc@5  27.34 ( 11.88)\n",
      "Epoch: [0][ 3600/10010]\tTime  0.817 ( 0.502)\tData  0.657 ( 0.341)\tLoss 4.9284e+00 (5.7974e+00)\tAcc@1   9.38 (  4.00)\tAcc@5  27.34 ( 12.04)\n",
      "Epoch: [0][ 3650/10010]\tTime  0.983 ( 0.502)\tData  0.823 ( 0.341)\tLoss 5.0338e+00 (5.7866e+00)\tAcc@1   5.47 (  4.07)\tAcc@5  22.66 ( 12.20)\n",
      "Epoch: [0][ 3700/10010]\tTime  0.809 ( 0.501)\tData  0.649 ( 0.341)\tLoss 5.0168e+00 (5.7759e+00)\tAcc@1   9.38 (  4.14)\tAcc@5  19.53 ( 12.36)\n",
      "Epoch: [0][ 3750/10010]\tTime  0.865 ( 0.501)\tData  0.704 ( 0.341)\tLoss 4.7171e+00 (5.7655e+00)\tAcc@1  10.16 (  4.21)\tAcc@5  30.47 ( 12.51)\n",
      "Epoch: [0][ 3800/10010]\tTime  0.839 ( 0.501)\tData  0.677 ( 0.341)\tLoss 5.2575e+00 (5.7551e+00)\tAcc@1   6.25 (  4.28)\tAcc@5  19.53 ( 12.67)\n",
      "Epoch: [0][ 3850/10010]\tTime  0.775 ( 0.501)\tData  0.612 ( 0.341)\tLoss 5.0239e+00 (5.7451e+00)\tAcc@1  11.72 (  4.34)\tAcc@5  28.12 ( 12.82)\n",
      "Epoch: [0][ 3900/10010]\tTime  0.899 ( 0.501)\tData  0.737 ( 0.341)\tLoss 4.9502e+00 (5.7345e+00)\tAcc@1  10.16 (  4.40)\tAcc@5  30.47 ( 12.98)\n",
      "Epoch: [0][ 3950/10010]\tTime  0.592 ( 0.501)\tData  0.428 ( 0.341)\tLoss 4.7997e+00 (5.7245e+00)\tAcc@1  10.94 (  4.48)\tAcc@5  25.00 ( 13.14)\n",
      "Epoch: [0][ 4000/10010]\tTime  0.607 ( 0.501)\tData  0.442 ( 0.341)\tLoss 5.0109e+00 (5.7146e+00)\tAcc@1  12.50 (  4.55)\tAcc@5  23.44 ( 13.29)\n",
      "Epoch: [0][ 4050/10010]\tTime  0.788 ( 0.501)\tData  0.623 ( 0.341)\tLoss 4.7291e+00 (5.7047e+00)\tAcc@1   8.59 (  4.62)\tAcc@5  29.69 ( 13.45)\n",
      "Epoch: [0][ 4100/10010]\tTime  0.808 ( 0.501)\tData  0.643 ( 0.341)\tLoss 4.6996e+00 (5.6947e+00)\tAcc@1  10.94 (  4.69)\tAcc@5  29.69 ( 13.59)\n",
      "Epoch: [0][ 4150/10010]\tTime  0.775 ( 0.501)\tData  0.609 ( 0.341)\tLoss 4.7658e+00 (5.6845e+00)\tAcc@1  10.94 (  4.75)\tAcc@5  30.47 ( 13.75)\n",
      "Epoch: [0][ 4200/10010]\tTime  0.859 ( 0.501)\tData  0.693 ( 0.341)\tLoss 4.9265e+00 (5.6752e+00)\tAcc@1   8.59 (  4.82)\tAcc@5  22.66 ( 13.88)\n",
      "Epoch: [0][ 4250/10010]\tTime  0.791 ( 0.501)\tData  0.624 ( 0.341)\tLoss 5.0616e+00 (5.6651e+00)\tAcc@1   8.59 (  4.89)\tAcc@5  25.78 ( 14.05)\n",
      "Epoch: [0][ 4300/10010]\tTime  0.785 ( 0.501)\tData  0.618 ( 0.340)\tLoss 5.0539e+00 (5.6558e+00)\tAcc@1  11.72 (  4.96)\tAcc@5  24.22 ( 14.19)\n",
      "Epoch: [0][ 4350/10010]\tTime  0.883 ( 0.501)\tData  0.717 ( 0.340)\tLoss 4.8190e+00 (5.6460e+00)\tAcc@1  13.28 (  5.03)\tAcc@5  27.34 ( 14.35)\n",
      "Epoch: [0][ 4400/10010]\tTime  0.930 ( 0.501)\tData  0.763 ( 0.340)\tLoss 5.0056e+00 (5.6365e+00)\tAcc@1  10.16 (  5.10)\tAcc@5  28.91 ( 14.49)\n",
      "Epoch: [0][ 4450/10010]\tTime  0.990 ( 0.501)\tData  0.822 ( 0.340)\tLoss 4.6607e+00 (5.6272e+00)\tAcc@1  17.19 (  5.16)\tAcc@5  32.03 ( 14.64)\n",
      "Epoch: [0][ 4500/10010]\tTime  0.806 ( 0.501)\tData  0.640 ( 0.340)\tLoss 4.7272e+00 (5.6180e+00)\tAcc@1  14.06 (  5.23)\tAcc@5  28.91 ( 14.78)\n",
      "Epoch: [0][ 4550/10010]\tTime  0.824 ( 0.501)\tData  0.655 ( 0.340)\tLoss 4.8594e+00 (5.6084e+00)\tAcc@1  11.72 (  5.30)\tAcc@5  31.25 ( 14.93)\n",
      "Epoch: [0][ 4600/10010]\tTime  1.016 ( 0.501)\tData  0.849 ( 0.340)\tLoss 4.7599e+00 (5.5992e+00)\tAcc@1  15.62 (  5.37)\tAcc@5  29.69 ( 15.07)\n",
      "Epoch: [0][ 4650/10010]\tTime  0.815 ( 0.501)\tData  0.647 ( 0.340)\tLoss 4.8344e+00 (5.5899e+00)\tAcc@1   5.47 (  5.43)\tAcc@5  26.56 ( 15.23)\n",
      "Epoch: [0][ 4700/10010]\tTime  0.784 ( 0.501)\tData  0.615 ( 0.340)\tLoss 4.9043e+00 (5.5802e+00)\tAcc@1   7.03 (  5.51)\tAcc@5  24.22 ( 15.38)\n",
      "Epoch: [0][ 4750/10010]\tTime  0.751 ( 0.501)\tData  0.583 ( 0.340)\tLoss 4.7237e+00 (5.5712e+00)\tAcc@1  13.28 (  5.57)\tAcc@5  28.12 ( 15.52)\n",
      "Epoch: [0][ 4800/10010]\tTime  0.755 ( 0.501)\tData  0.586 ( 0.339)\tLoss 4.6964e+00 (5.5622e+00)\tAcc@1  11.72 (  5.63)\tAcc@5  29.69 ( 15.66)\n",
      "Epoch: [0][ 4850/10010]\tTime  0.951 ( 0.501)\tData  0.783 ( 0.339)\tLoss 4.7057e+00 (5.5533e+00)\tAcc@1  13.28 (  5.70)\tAcc@5  28.12 ( 15.81)\n",
      "Epoch: [0][ 4900/10010]\tTime  0.844 ( 0.501)\tData  0.676 ( 0.339)\tLoss 4.5348e+00 (5.5441e+00)\tAcc@1  10.94 (  5.77)\tAcc@5  30.47 ( 15.96)\n",
      "Epoch: [0][ 4950/10010]\tTime  0.775 ( 0.501)\tData  0.607 ( 0.339)\tLoss 4.4300e+00 (5.5357e+00)\tAcc@1  15.62 (  5.83)\tAcc@5  35.16 ( 16.09)\n",
      "Epoch: [0][ 5000/10010]\tTime  0.816 ( 0.501)\tData  0.647 ( 0.339)\tLoss 4.6271e+00 (5.5272e+00)\tAcc@1  11.72 (  5.89)\tAcc@5  33.59 ( 16.23)\n",
      "Epoch: [0][ 5050/10010]\tTime  0.201 ( 0.501)\tData  0.032 ( 0.339)\tLoss 4.5230e+00 (5.5184e+00)\tAcc@1  12.50 (  5.96)\tAcc@5  33.59 ( 16.37)\n",
      "Epoch: [0][ 5100/10010]\tTime  0.403 ( 0.501)\tData  0.234 ( 0.339)\tLoss 4.5118e+00 (5.5098e+00)\tAcc@1  16.41 (  6.02)\tAcc@5  35.16 ( 16.51)\n",
      "Epoch: [0][ 5150/10010]\tTime  0.380 ( 0.501)\tData  0.211 ( 0.339)\tLoss 4.5672e+00 (5.5011e+00)\tAcc@1  16.41 (  6.09)\tAcc@5  28.12 ( 16.64)\n",
      "Epoch: [0][ 5200/10010]\tTime  0.489 ( 0.501)\tData  0.320 ( 0.338)\tLoss 4.6947e+00 (5.4923e+00)\tAcc@1  12.50 (  6.16)\tAcc@5  24.22 ( 16.79)\n",
      "Epoch: [0][ 5250/10010]\tTime  0.921 ( 0.501)\tData  0.753 ( 0.338)\tLoss 4.5724e+00 (5.4838e+00)\tAcc@1  12.50 (  6.23)\tAcc@5  27.34 ( 16.93)\n",
      "Epoch: [0][ 5300/10010]\tTime  0.811 ( 0.501)\tData  0.642 ( 0.338)\tLoss 4.8853e+00 (5.4756e+00)\tAcc@1  10.94 (  6.30)\tAcc@5  26.56 ( 17.06)\n",
      "Epoch: [0][ 5350/10010]\tTime  0.791 ( 0.501)\tData  0.622 ( 0.338)\tLoss 4.7120e+00 (5.4669e+00)\tAcc@1  10.16 (  6.37)\tAcc@5  29.69 ( 17.20)\n",
      "Epoch: [0][ 5400/10010]\tTime  0.758 ( 0.501)\tData  0.591 ( 0.338)\tLoss 4.6875e+00 (5.4587e+00)\tAcc@1   3.12 (  6.43)\tAcc@5  25.00 ( 17.34)\n",
      "Epoch: [0][ 5450/10010]\tTime  0.967 ( 0.501)\tData  0.798 ( 0.338)\tLoss 4.4684e+00 (5.4497e+00)\tAcc@1  17.19 (  6.51)\tAcc@5  31.25 ( 17.48)\n",
      "Epoch: [0][ 5500/10010]\tTime  0.847 ( 0.501)\tData  0.679 ( 0.338)\tLoss 4.4731e+00 (5.4415e+00)\tAcc@1  14.06 (  6.57)\tAcc@5  34.38 ( 17.62)\n",
      "Epoch: [0][ 5550/10010]\tTime  0.667 ( 0.501)\tData  0.499 ( 0.338)\tLoss 4.5049e+00 (5.4333e+00)\tAcc@1  14.84 (  6.63)\tAcc@5  35.94 ( 17.75)\n",
      "Epoch: [0][ 5600/10010]\tTime  0.784 ( 0.501)\tData  0.616 ( 0.338)\tLoss 4.4969e+00 (5.4252e+00)\tAcc@1  15.62 (  6.71)\tAcc@5  31.25 ( 17.89)\n",
      "Epoch: [0][ 5650/10010]\tTime  0.332 ( 0.501)\tData  0.165 ( 0.338)\tLoss 4.6696e+00 (5.4172e+00)\tAcc@1  14.06 (  6.78)\tAcc@5  32.03 ( 18.02)\n",
      "Epoch: [0][ 5700/10010]\tTime  0.516 ( 0.501)\tData  0.347 ( 0.338)\tLoss 4.6174e+00 (5.4093e+00)\tAcc@1  12.50 (  6.85)\tAcc@5  30.47 ( 18.15)\n",
      "Epoch: [0][ 5750/10010]\tTime  0.199 ( 0.501)\tData  0.030 ( 0.338)\tLoss 4.6829e+00 (5.4012e+00)\tAcc@1  16.41 (  6.92)\tAcc@5  32.81 ( 18.29)\n",
      "Epoch: [0][ 5800/10010]\tTime  0.483 ( 0.501)\tData  0.315 ( 0.338)\tLoss 4.3499e+00 (5.3934e+00)\tAcc@1  18.75 (  6.99)\tAcc@5  35.94 ( 18.42)\n",
      "Epoch: [0][ 5850/10010]\tTime  1.005 ( 0.501)\tData  0.837 ( 0.338)\tLoss 4.1785e+00 (5.3857e+00)\tAcc@1  12.50 (  7.05)\tAcc@5  40.62 ( 18.55)\n",
      "Epoch: [0][ 5900/10010]\tTime  0.297 ( 0.501)\tData  0.128 ( 0.338)\tLoss 4.5082e+00 (5.3780e+00)\tAcc@1  14.06 (  7.11)\tAcc@5  37.50 ( 18.68)\n",
      "Epoch: [0][ 5950/10010]\tTime  0.771 ( 0.501)\tData  0.604 ( 0.338)\tLoss 4.4898e+00 (5.3701e+00)\tAcc@1  17.19 (  7.18)\tAcc@5  35.94 ( 18.81)\n",
      "Epoch: [0][ 6000/10010]\tTime  0.172 ( 0.501)\tData  0.002 ( 0.338)\tLoss 4.3783e+00 (5.3618e+00)\tAcc@1  17.19 (  7.26)\tAcc@5  31.25 ( 18.96)\n",
      "Epoch: [0][ 6050/10010]\tTime  0.173 ( 0.501)\tData  0.002 ( 0.338)\tLoss 3.8906e+00 (5.3537e+00)\tAcc@1  21.09 (  7.33)\tAcc@5  42.19 ( 19.09)\n",
      "Epoch: [0][ 6100/10010]\tTime  0.173 ( 0.501)\tData  0.002 ( 0.338)\tLoss 4.5854e+00 (5.3461e+00)\tAcc@1  11.72 (  7.39)\tAcc@5  26.56 ( 19.22)\n",
      "Epoch: [0][ 6150/10010]\tTime  0.172 ( 0.501)\tData  0.002 ( 0.338)\tLoss 4.4856e+00 (5.3390e+00)\tAcc@1  10.16 (  7.45)\tAcc@5  34.38 ( 19.34)\n",
      "Epoch: [0][ 6200/10010]\tTime  0.171 ( 0.501)\tData  0.002 ( 0.338)\tLoss 4.4417e+00 (5.3311e+00)\tAcc@1  11.72 (  7.52)\tAcc@5  31.25 ( 19.47)\n",
      "Epoch: [0][ 6250/10010]\tTime  0.173 ( 0.501)\tData  0.002 ( 0.338)\tLoss 4.2007e+00 (5.3240e+00)\tAcc@1  17.19 (  7.58)\tAcc@5  35.94 ( 19.59)\n",
      "Epoch: [0][ 6300/10010]\tTime  0.172 ( 0.501)\tData  0.002 ( 0.338)\tLoss 4.5862e+00 (5.3167e+00)\tAcc@1  12.50 (  7.64)\tAcc@5  30.47 ( 19.71)\n",
      "Epoch: [0][ 6350/10010]\tTime  0.171 ( 0.501)\tData  0.002 ( 0.338)\tLoss 4.1741e+00 (5.3092e+00)\tAcc@1  17.19 (  7.71)\tAcc@5  42.97 ( 19.85)\n",
      "Epoch: [0][ 6400/10010]\tTime  0.172 ( 0.501)\tData  0.002 ( 0.338)\tLoss 4.2697e+00 (5.3020e+00)\tAcc@1  15.62 (  7.78)\tAcc@5  39.84 ( 19.97)\n",
      "Epoch: [0][ 6450/10010]\tTime  0.174 ( 0.501)\tData  0.002 ( 0.338)\tLoss 4.1220e+00 (5.2948e+00)\tAcc@1  22.66 (  7.85)\tAcc@5  39.84 ( 20.09)\n",
      "Epoch: [0][ 6500/10010]\tTime  0.171 ( 0.501)\tData  0.002 ( 0.338)\tLoss 4.4401e+00 (5.2877e+00)\tAcc@1  15.62 (  7.91)\tAcc@5  35.16 ( 20.20)\n",
      "Epoch: [0][ 6550/10010]\tTime  0.173 ( 0.501)\tData  0.002 ( 0.337)\tLoss 4.3871e+00 (5.2804e+00)\tAcc@1  17.97 (  7.97)\tAcc@5  37.50 ( 20.33)\n",
      "Epoch: [0][ 6600/10010]\tTime  0.173 ( 0.501)\tData  0.002 ( 0.337)\tLoss 4.1381e+00 (5.2730e+00)\tAcc@1  20.31 (  8.04)\tAcc@5  39.06 ( 20.44)\n",
      "Epoch: [0][ 6650/10010]\tTime  0.171 ( 0.501)\tData  0.002 ( 0.337)\tLoss 3.9178e+00 (5.2659e+00)\tAcc@1  17.19 (  8.10)\tAcc@5  39.06 ( 20.57)\n",
      "Epoch: [0][ 6700/10010]\tTime  0.172 ( 0.501)\tData  0.002 ( 0.337)\tLoss 4.4032e+00 (5.2589e+00)\tAcc@1  17.97 (  8.17)\tAcc@5  35.94 ( 20.69)\n",
      "Epoch: [0][ 6750/10010]\tTime  0.172 ( 0.501)\tData  0.002 ( 0.337)\tLoss 4.1272e+00 (5.2518e+00)\tAcc@1  19.53 (  8.23)\tAcc@5  44.53 ( 20.81)\n",
      "Epoch: [0][ 6800/10010]\tTime  0.171 ( 0.501)\tData  0.002 ( 0.337)\tLoss 4.2456e+00 (5.2448e+00)\tAcc@1  14.06 (  8.30)\tAcc@5  39.06 ( 20.93)\n",
      "Epoch: [0][ 6850/10010]\tTime  0.172 ( 0.501)\tData  0.002 ( 0.337)\tLoss 4.0199e+00 (5.2380e+00)\tAcc@1  23.44 (  8.36)\tAcc@5  42.19 ( 21.04)\n",
      "Epoch: [0][ 6900/10010]\tTime  0.173 ( 0.501)\tData  0.002 ( 0.337)\tLoss 4.5035e+00 (5.2311e+00)\tAcc@1  10.94 (  8.42)\tAcc@5  29.69 ( 21.15)\n",
      "Epoch: [0][ 6950/10010]\tTime  0.173 ( 0.501)\tData  0.002 ( 0.337)\tLoss 3.9871e+00 (5.2242e+00)\tAcc@1  21.09 (  8.48)\tAcc@5  42.97 ( 21.28)\n",
      "Epoch: [0][ 7000/10010]\tTime  0.173 ( 0.501)\tData  0.002 ( 0.337)\tLoss 4.1095e+00 (5.2174e+00)\tAcc@1  21.09 (  8.55)\tAcc@5  40.62 ( 21.40)\n",
      "Epoch: [0][ 7050/10010]\tTime  0.186 ( 0.501)\tData  0.002 ( 0.337)\tLoss 4.0708e+00 (5.2104e+00)\tAcc@1  21.88 (  8.61)\tAcc@5  43.75 ( 21.52)\n",
      "Epoch: [0][ 7100/10010]\tTime  0.177 ( 0.501)\tData  0.002 ( 0.337)\tLoss 4.2384e+00 (5.2034e+00)\tAcc@1  14.06 (  8.67)\tAcc@5  39.06 ( 21.64)\n",
      "Epoch: [0][ 7150/10010]\tTime  0.172 ( 0.501)\tData  0.002 ( 0.337)\tLoss 4.3529e+00 (5.1968e+00)\tAcc@1  18.75 (  8.74)\tAcc@5  35.94 ( 21.75)\n",
      "Epoch: [0][ 7200/10010]\tTime  0.172 ( 0.501)\tData  0.002 ( 0.337)\tLoss 3.8700e+00 (5.1901e+00)\tAcc@1  24.22 (  8.80)\tAcc@5  46.09 ( 21.87)\n",
      "Epoch: [0][ 7250/10010]\tTime  0.172 ( 0.501)\tData  0.002 ( 0.336)\tLoss 4.0577e+00 (5.1836e+00)\tAcc@1  21.88 (  8.86)\tAcc@5  36.72 ( 21.98)\n",
      "Epoch: [0][ 7300/10010]\tTime  0.171 ( 0.501)\tData  0.002 ( 0.337)\tLoss 4.3399e+00 (5.1769e+00)\tAcc@1  17.19 (  8.93)\tAcc@5  35.94 ( 22.10)\n",
      "Epoch: [0][ 7350/10010]\tTime  0.172 ( 0.501)\tData  0.002 ( 0.336)\tLoss 4.3002e+00 (5.1701e+00)\tAcc@1  15.62 (  8.99)\tAcc@5  39.06 ( 22.22)\n",
      "Epoch: [0][ 7400/10010]\tTime  0.257 ( 0.501)\tData  0.089 ( 0.336)\tLoss 4.0254e+00 (5.1637e+00)\tAcc@1  17.97 (  9.05)\tAcc@5  41.41 ( 22.33)\n",
      "Epoch: [0][ 7450/10010]\tTime  0.172 ( 0.501)\tData  0.002 ( 0.336)\tLoss 4.1691e+00 (5.1571e+00)\tAcc@1  19.53 (  9.12)\tAcc@5  44.53 ( 22.44)\n",
      "Epoch: [0][ 7500/10010]\tTime  0.172 ( 0.501)\tData  0.002 ( 0.336)\tLoss 4.4045e+00 (5.1508e+00)\tAcc@1  16.41 (  9.18)\tAcc@5  42.19 ( 22.56)\n",
      "Epoch: [0][ 7550/10010]\tTime  0.271 ( 0.501)\tData  0.103 ( 0.336)\tLoss 4.1383e+00 (5.1444e+00)\tAcc@1  20.31 (  9.24)\tAcc@5  42.19 ( 22.67)\n",
      "Epoch: [0][ 7600/10010]\tTime  0.332 ( 0.501)\tData  0.163 ( 0.336)\tLoss 4.2150e+00 (5.1375e+00)\tAcc@1  23.44 (  9.30)\tAcc@5  38.28 ( 22.79)\n",
      "Epoch: [0][ 7650/10010]\tTime  0.171 ( 0.501)\tData  0.002 ( 0.336)\tLoss 4.0187e+00 (5.1315e+00)\tAcc@1  21.88 (  9.36)\tAcc@5  41.41 ( 22.89)\n",
      "Epoch: [0][ 7700/10010]\tTime  0.172 ( 0.501)\tData  0.002 ( 0.336)\tLoss 4.4194e+00 (5.1251e+00)\tAcc@1  17.97 (  9.42)\tAcc@5  34.38 ( 23.00)\n",
      "Epoch: [0][ 7750/10010]\tTime  0.165 ( 0.501)\tData  0.002 ( 0.336)\tLoss 3.9179e+00 (5.1188e+00)\tAcc@1  23.44 (  9.48)\tAcc@5  43.75 ( 23.11)\n",
      "Epoch: [0][ 7800/10010]\tTime  0.162 ( 0.501)\tData  0.002 ( 0.336)\tLoss 3.9988e+00 (5.1123e+00)\tAcc@1  21.09 (  9.55)\tAcc@5  46.88 ( 23.22)\n",
      "Epoch: [0][ 7850/10010]\tTime  0.161 ( 0.501)\tData  0.002 ( 0.336)\tLoss 4.0585e+00 (5.1059e+00)\tAcc@1  22.66 (  9.61)\tAcc@5  42.97 ( 23.33)\n",
      "Epoch: [0][ 7900/10010]\tTime  0.161 ( 0.501)\tData  0.002 ( 0.336)\tLoss 4.4723e+00 (5.0994e+00)\tAcc@1  13.28 (  9.67)\tAcc@5  30.47 ( 23.45)\n",
      "Epoch: [0][ 7950/10010]\tTime  0.159 ( 0.501)\tData  0.002 ( 0.336)\tLoss 3.9362e+00 (5.0935e+00)\tAcc@1  21.88 (  9.73)\tAcc@5  46.88 ( 23.55)\n",
      "Epoch: [0][ 8000/10010]\tTime  0.160 ( 0.501)\tData  0.002 ( 0.336)\tLoss 4.1815e+00 (5.0875e+00)\tAcc@1  16.41 (  9.78)\tAcc@5  39.06 ( 23.65)\n",
      "Epoch: [0][ 8050/10010]\tTime  0.153 ( 0.501)\tData  0.001 ( 0.336)\tLoss 4.4477e+00 (5.0814e+00)\tAcc@1  13.28 (  9.84)\tAcc@5  35.94 ( 23.75)\n",
      "Epoch: [0][ 8100/10010]\tTime  0.152 ( 0.501)\tData  0.001 ( 0.336)\tLoss 3.9173e+00 (5.0755e+00)\tAcc@1  26.56 (  9.90)\tAcc@5  50.78 ( 23.86)\n",
      "Epoch: [0][ 8150/10010]\tTime  0.152 ( 0.501)\tData  0.001 ( 0.336)\tLoss 4.0217e+00 (5.0695e+00)\tAcc@1  18.75 (  9.96)\tAcc@5  42.97 ( 23.97)\n",
      "Epoch: [0][ 8200/10010]\tTime  0.152 ( 0.500)\tData  0.001 ( 0.336)\tLoss 4.4076e+00 (5.0637e+00)\tAcc@1  17.19 ( 10.02)\tAcc@5  30.47 ( 24.07)\n",
      "Epoch: [0][ 8250/10010]\tTime  0.153 ( 0.500)\tData  0.001 ( 0.336)\tLoss 3.7639e+00 (5.0579e+00)\tAcc@1  24.22 ( 10.07)\tAcc@5  42.97 ( 24.16)\n",
      "Epoch: [0][ 8300/10010]\tTime  0.151 ( 0.500)\tData  0.001 ( 0.337)\tLoss 4.1590e+00 (5.0522e+00)\tAcc@1  23.44 ( 10.13)\tAcc@5  35.94 ( 24.26)\n",
      "Epoch: [0][ 8350/10010]\tTime  0.151 ( 0.500)\tData  0.001 ( 0.337)\tLoss 4.4215e+00 (5.0469e+00)\tAcc@1  13.28 ( 10.18)\tAcc@5  37.50 ( 24.36)\n",
      "Epoch: [0][ 8400/10010]\tTime  0.151 ( 0.500)\tData  0.001 ( 0.337)\tLoss 4.2925e+00 (5.0415e+00)\tAcc@1  19.53 ( 10.23)\tAcc@5  39.06 ( 24.45)\n",
      "Epoch: [0][ 8450/10010]\tTime  0.394 ( 0.500)\tData  0.245 ( 0.337)\tLoss 3.8794e+00 (5.0361e+00)\tAcc@1  25.78 ( 10.29)\tAcc@5  43.75 ( 24.55)\n",
      "Epoch: [0][ 8500/10010]\tTime  0.151 ( 0.500)\tData  0.001 ( 0.337)\tLoss 4.2177e+00 (5.0308e+00)\tAcc@1  19.53 ( 10.34)\tAcc@5  38.28 ( 24.64)\n",
      "Epoch: [0][ 8550/10010]\tTime  0.183 ( 0.500)\tData  0.033 ( 0.337)\tLoss 4.1468e+00 (5.0258e+00)\tAcc@1  17.97 ( 10.39)\tAcc@5  39.06 ( 24.73)\n",
      "Epoch: [0][ 8600/10010]\tTime  0.152 ( 0.500)\tData  0.001 ( 0.337)\tLoss 4.2679e+00 (5.0207e+00)\tAcc@1  17.97 ( 10.44)\tAcc@5  42.97 ( 24.82)\n",
      "Epoch: [0][ 8650/10010]\tTime  0.151 ( 0.500)\tData  0.001 ( 0.337)\tLoss 4.0653e+00 (5.0157e+00)\tAcc@1  25.78 ( 10.49)\tAcc@5  40.62 ( 24.90)\n",
      "Epoch: [0][ 8700/10010]\tTime  0.152 ( 0.500)\tData  0.001 ( 0.337)\tLoss 4.1040e+00 (5.0108e+00)\tAcc@1  21.88 ( 10.53)\tAcc@5  43.75 ( 24.99)\n",
      "Epoch: [0][ 8750/10010]\tTime  0.290 ( 0.500)\tData  0.141 ( 0.337)\tLoss 4.1014e+00 (5.0059e+00)\tAcc@1  20.31 ( 10.58)\tAcc@5  39.06 ( 25.07)\n",
      "Epoch: [0][ 8800/10010]\tTime  0.182 ( 0.500)\tData  0.033 ( 0.337)\tLoss 4.1910e+00 (5.0011e+00)\tAcc@1  14.06 ( 10.63)\tAcc@5  39.84 ( 25.16)\n",
      "Epoch: [0][ 8850/10010]\tTime  0.464 ( 0.500)\tData  0.314 ( 0.337)\tLoss 4.1390e+00 (4.9959e+00)\tAcc@1  18.75 ( 10.68)\tAcc@5  43.75 ( 25.25)\n",
      "Epoch: [0][ 8900/10010]\tTime  0.923 ( 0.500)\tData  0.773 ( 0.337)\tLoss 4.3839e+00 (4.9912e+00)\tAcc@1  23.44 ( 10.72)\tAcc@5  39.84 ( 25.33)\n",
      "Epoch: [0][ 8950/10010]\tTime  0.151 ( 0.500)\tData  0.001 ( 0.337)\tLoss 4.3597e+00 (4.9867e+00)\tAcc@1  18.75 ( 10.77)\tAcc@5  35.16 ( 25.41)\n",
      "Epoch: [0][ 9000/10010]\tTime  0.152 ( 0.500)\tData  0.001 ( 0.337)\tLoss 4.3166e+00 (4.9816e+00)\tAcc@1  20.31 ( 10.82)\tAcc@5  36.72 ( 25.50)\n",
      "Epoch: [0][ 9050/10010]\tTime  0.153 ( 0.500)\tData  0.001 ( 0.337)\tLoss 3.9246e+00 (4.9769e+00)\tAcc@1  20.31 ( 10.86)\tAcc@5  40.62 ( 25.58)\n",
      "Epoch: [0][ 9100/10010]\tTime  0.152 ( 0.500)\tData  0.001 ( 0.337)\tLoss 4.0523e+00 (4.9724e+00)\tAcc@1  20.31 ( 10.90)\tAcc@5  40.62 ( 25.66)\n",
      "Epoch: [0][ 9150/10010]\tTime  0.153 ( 0.500)\tData  0.001 ( 0.338)\tLoss 3.8593e+00 (4.9678e+00)\tAcc@1  32.81 ( 10.95)\tAcc@5  42.97 ( 25.73)\n",
      "Epoch: [0][ 9200/10010]\tTime  0.153 ( 0.500)\tData  0.001 ( 0.338)\tLoss 4.0343e+00 (4.9634e+00)\tAcc@1  21.88 ( 10.99)\tAcc@5  46.09 ( 25.81)\n",
      "Epoch: [0][ 9250/10010]\tTime  0.153 ( 0.500)\tData  0.001 ( 0.338)\tLoss 4.1775e+00 (4.9590e+00)\tAcc@1  17.19 ( 11.03)\tAcc@5  45.31 ( 25.89)\n",
      "Epoch: [0][ 9300/10010]\tTime  0.153 ( 0.500)\tData  0.001 ( 0.338)\tLoss 4.0830e+00 (4.9546e+00)\tAcc@1  22.66 ( 11.07)\tAcc@5  40.62 ( 25.97)\n",
      "Epoch: [0][ 9350/10010]\tTime  0.154 ( 0.500)\tData  0.001 ( 0.338)\tLoss 4.0717e+00 (4.9503e+00)\tAcc@1  15.62 ( 11.12)\tAcc@5  39.06 ( 26.05)\n",
      "Epoch: [0][ 9400/10010]\tTime  0.155 ( 0.500)\tData  0.001 ( 0.338)\tLoss 3.9556e+00 (4.9458e+00)\tAcc@1  17.97 ( 11.16)\tAcc@5  39.84 ( 26.13)\n",
      "Epoch: [0][ 9450/10010]\tTime  0.164 ( 0.500)\tData  0.001 ( 0.338)\tLoss 4.2070e+00 (4.9414e+00)\tAcc@1  13.28 ( 11.20)\tAcc@5  39.84 ( 26.20)\n",
      "Epoch: [0][ 9500/10010]\tTime  0.156 ( 0.500)\tData  0.002 ( 0.338)\tLoss 3.7915e+00 (4.9373e+00)\tAcc@1  25.00 ( 11.24)\tAcc@5  46.88 ( 26.28)\n",
      "Epoch: [0][ 9550/10010]\tTime  0.166 ( 0.500)\tData  0.002 ( 0.338)\tLoss 3.9918e+00 (4.9332e+00)\tAcc@1  22.66 ( 11.28)\tAcc@5  41.41 ( 26.35)\n",
      "Epoch: [0][ 9600/10010]\tTime  0.157 ( 0.500)\tData  0.001 ( 0.338)\tLoss 4.5113e+00 (4.9291e+00)\tAcc@1  14.84 ( 11.32)\tAcc@5  35.16 ( 26.42)\n",
      "Epoch: [0][ 9650/10010]\tTime  0.157 ( 0.500)\tData  0.001 ( 0.338)\tLoss 4.0159e+00 (4.9250e+00)\tAcc@1  14.84 ( 11.36)\tAcc@5  40.62 ( 26.49)\n",
      "Epoch: [0][ 9700/10010]\tTime  0.292 ( 0.500)\tData  0.136 ( 0.338)\tLoss 4.2729e+00 (4.9209e+00)\tAcc@1  14.06 ( 11.40)\tAcc@5  35.94 ( 26.56)\n",
      "Epoch: [0][ 9750/10010]\tTime  0.611 ( 0.500)\tData  0.455 ( 0.338)\tLoss 3.7145e+00 (4.9172e+00)\tAcc@1  26.56 ( 11.44)\tAcc@5  51.56 ( 26.63)\n",
      "Epoch: [0][ 9800/10010]\tTime  0.621 ( 0.500)\tData  0.464 ( 0.338)\tLoss 4.1436e+00 (4.9131e+00)\tAcc@1  17.97 ( 11.48)\tAcc@5  41.41 ( 26.70)\n",
      "Epoch: [0][ 9850/10010]\tTime  0.158 ( 0.500)\tData  0.001 ( 0.338)\tLoss 3.9702e+00 (4.9092e+00)\tAcc@1  14.84 ( 11.51)\tAcc@5  43.75 ( 26.77)\n",
      "Epoch: [0][ 9900/10010]\tTime  0.160 ( 0.500)\tData  0.001 ( 0.338)\tLoss 4.0168e+00 (4.9051e+00)\tAcc@1  20.31 ( 11.55)\tAcc@5  39.84 ( 26.85)\n",
      "Epoch: [0][ 9950/10010]\tTime  0.160 ( 0.500)\tData  0.001 ( 0.338)\tLoss 3.8574e+00 (4.9012e+00)\tAcc@1  25.00 ( 11.59)\tAcc@5  46.88 ( 26.91)\n",
      "Epoch: [0][10000/10010]\tTime  0.331 ( 0.500)\tData  0.174 ( 0.338)\tLoss 4.2193e+00 (4.8975e+00)\tAcc@1  19.53 ( 11.63)\tAcc@5  43.75 ( 26.98)\n",
      "Test: [  0/391]\tTime  1.713 ( 1.713)\tLoss 2.4782e+00 (2.4782e+00)\tAcc@1  46.88 ( 46.88)\tAcc@5  73.44 ( 73.44)\n",
      "Test: [ 50/391]\tTime  0.802 ( 0.483)\tLoss 3.0281e+00 (3.5294e+00)\tAcc@1  29.69 ( 27.34)\tAcc@5  62.50 ( 51.91)\n",
      "Test: [100/391]\tTime  0.752 ( 0.467)\tLoss 2.9544e+00 (3.5386e+00)\tAcc@1  26.56 ( 24.23)\tAcc@5  69.53 ( 49.77)\n",
      "Test: [150/391]\tTime  1.130 ( 0.475)\tLoss 2.8621e+00 (3.5023e+00)\tAcc@1  23.44 ( 24.73)\tAcc@5  69.53 ( 51.01)\n",
      "Test: [200/391]\tTime  0.654 ( 0.469)\tLoss 4.6788e+00 (3.6334e+00)\tAcc@1   7.03 ( 23.58)\tAcc@5  26.56 ( 48.94)\n",
      "Test: [250/391]\tTime  0.725 ( 0.465)\tLoss 3.9355e+00 (3.6949e+00)\tAcc@1  22.66 ( 23.35)\tAcc@5  42.19 ( 48.12)\n",
      "Test: [300/391]\tTime  0.620 ( 0.462)\tLoss 4.0965e+00 (3.7860e+00)\tAcc@1  25.00 ( 22.54)\tAcc@5  39.06 ( 46.41)\n",
      "Test: [350/391]\tTime  0.485 ( 0.460)\tLoss 3.8371e+00 (3.8566e+00)\tAcc@1  17.19 ( 21.60)\tAcc@5  50.00 ( 45.00)\n",
      " * Acc@1 22.354 Acc@5 45.872\n"
     ]
    },
    {
     "name": "stderr",
     "output_type": "stream",
     "text": [
      "Traceback (most recent call last):\n",
      "Traceback (most recent call last):\n",
      "  File \"/opt/conda/lib/python3.8/multiprocessing/queues.py\", line 245, in _feed\n",
      "    send_bytes(obj)\n",
      "  File \"/opt/conda/lib/python3.8/multiprocessing/connection.py\", line 200, in send_bytes\n",
      "    self._send_bytes(m[offset:offset + size])\n",
      "  File \"/opt/conda/lib/python3.8/multiprocessing/connection.py\", line 411, in _send_bytes\n",
      "    self._send(header + buf)\n",
      "  File \"/opt/conda/lib/python3.8/multiprocessing/connection.py\", line 368, in _send\n",
      "    n = write(self._handle, buf)\n",
      "BrokenPipeError: [Errno 32] Broken pipe\n",
      "  File \"/opt/conda/lib/python3.8/multiprocessing/queues.py\", line 245, in _feed\n",
      "    send_bytes(obj)\n",
      "  File \"/opt/conda/lib/python3.8/multiprocessing/connection.py\", line 200, in send_bytes\n",
      "    self._send_bytes(m[offset:offset + size])\n",
      "  File \"/opt/conda/lib/python3.8/multiprocessing/connection.py\", line 411, in _send_bytes\n",
      "    self._send(header + buf)\n",
      "  File \"/opt/conda/lib/python3.8/multiprocessing/connection.py\", line 368, in _send\n",
      "    n = write(self._handle, buf)\n",
      "BrokenPipeError: [Errno 32] Broken pipe\n"
     ]
    },
    {
     "ename": "NameError",
     "evalue": "name 'RANK' is not defined",
     "output_type": "error",
     "traceback": [
      "\u001b[0;31m---------------------------------------------------------------------------\u001b[0m",
      "\u001b[0;31mNameError\u001b[0m                                 Traceback (most recent call last)",
      "\u001b[0;32m<timed exec>\u001b[0m in \u001b[0;36m<module>\u001b[0;34m\u001b[0m\n",
      "\u001b[0;31mNameError\u001b[0m: name 'RANK' is not defined"
     ]
    }
   ],
   "source": [
    "%%time\n",
    "for epoch in range(START_EPOCH, 2):\n",
    "    train(train_loader, model, criterion, optimizer, epoch)\n",
    "    acc1 = validate(val_loader, model, criterion)\n",
    "    is_best = acc1 > best_acc1\n",
    "    best_acc1 = max(acc1, best_acc1)\n",
    "    if RANK == 0:\n",
    "      save_checkpoint({\n",
    "        'epoch': epoch + 1,\n",
    "        'arch': ARCH,\n",
    "        'state_dict': model.state_dict(),\n",
    "        'best_acc1': best_acc1,\n",
    "        'optimizer' : optimizer.state_dict(),\n",
    "      }, is_best)\n",
    "    \n",
    "    scheduler.step()\n",
    "    print('lr: ' + str(scheduler.get_last_lr()))\n",
    "    writer.add_scalar(\"lr\", scheduler.get_last_lr()[0], global_step = global_step)\n",
    "    wandb.log({'lr': scheduler.get_last_lr()[0]})"
   ]
  },
  {
   "cell_type": "code",
   "execution_count": null,
   "id": "b8ecc7c9",
   "metadata": {
    "id": "adc68068"
   },
   "outputs": [],
   "source": []
  },
  {
   "cell_type": "code",
   "execution_count": null,
   "id": "45df9e53",
   "metadata": {
    "id": "d3faf0cd"
   },
   "outputs": [],
   "source": []
  },
  {
   "cell_type": "code",
   "execution_count": null,
   "id": "680fc789",
   "metadata": {},
   "outputs": [],
   "source": []
  },
  {
   "cell_type": "code",
   "execution_count": null,
   "id": "c6f83562",
   "metadata": {},
   "outputs": [],
   "source": []
  },
  {
   "cell_type": "code",
   "execution_count": null,
   "id": "c24feb2e",
   "metadata": {},
   "outputs": [],
   "source": []
  },
  {
   "cell_type": "code",
   "execution_count": null,
   "id": "3eba93ce",
   "metadata": {},
   "outputs": [],
   "source": []
  }
 ],
 "metadata": {
  "colab": {
   "name": "cinic.ipynb",
   "provenance": []
  },
  "kernelspec": {
   "display_name": "Python 3 (ipykernel)",
   "language": "python",
   "name": "python3"
  },
  "language_info": {
   "codemirror_mode": {
    "name": "ipython",
    "version": 3
   },
   "file_extension": ".py",
   "mimetype": "text/x-python",
   "name": "python",
   "nbconvert_exporter": "python",
   "pygments_lexer": "ipython3",
   "version": "3.8.12"
  }
 },
 "nbformat": 4,
 "nbformat_minor": 5
}
